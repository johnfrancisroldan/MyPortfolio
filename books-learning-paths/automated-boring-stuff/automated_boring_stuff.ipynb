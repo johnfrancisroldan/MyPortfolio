{
 "cells": [
  {
   "cell_type": "markdown",
   "metadata": {},
   "source": [
    "# Chapter 1"
   ]
  },
  {
   "cell_type": "markdown",
   "metadata": {},
   "source": [
    "## Practice Questions"
   ]
  },
  {
   "cell_type": "markdown",
   "metadata": {},
   "source": [
    "### PQ No. 1 | page 73"
   ]
  },
  {
   "cell_type": "markdown",
   "metadata": {},
   "source": [
    "Q1: Which of the following are operators, and which are values?\n",
    "- `*`\n",
    "- 'hello'\n",
    "- -88.8\n",
    "- `-`\n",
    "- `/`\n",
    "- `+`\n",
    "- 5\n",
    "\n",
    "Q2: Which of the following is a variable, and which is a string?\n",
    "- spam\n",
    "- `'spam'`\n",
    "\n",
    "Q3: Name three data types.\n",
    "- `string, integer, float`\n",
    "\n",
    "Q4: What is an expression made up of? What do all expressions do?\n",
    "- `Combination of values and operators to evaluate or get single value`\n",
    "\n",
    "Q5: This chapter introduced assignment statements, like `spam = 10`. What is the difference between an expression and a statement?\n",
    "- `Expression consist of values and operators to evalute down a single value and assignment statement consist of vaiable name and equal sign`\n",
    "\n",
    "Q6: What does the variable `bacon` contain after the following code runs?\n",
    "```python\n",
    "bacon = 20\n",
    "bacon + 1\n",
    "```\n",
    "- `20`\n",
    "\n",
    "Q7: What should the following two expressions evaluate to?\n",
    "- 'spam' + 'spamspam' = `'spamspamspam'`\n",
    "- 'spam' * 3 = `'spamspamspam'`\n",
    "\n",
    "Q8: Why is `eggs` a valid variable name while `100` is invalid?\n",
    "- ` In python, a variable name should not start in numbers`\n",
    "\n",
    "Q9: What three functions can be used to get the integer, floating-point number, or string version of a value?\n",
    "-`int(), float(), str()`\n",
    "\n",
    "Q10: Why does this expression cause an error? How can you fix it?\n",
    "```python\n",
    "'I have eaten ' + 99 + ' burritos.'\n",
    "```\n",
    ">Extra credit: \n",
    "    Search online for the Python documentation for the `len()` function. It will be on a web page titled “Built-in Functions.” Skim the list of other functions Python has, look up what the `round()` function does, and experiment with it in the interactive shell.\n",
    "\n",
    "`The error cause of concatenating string and integer type. The solution for this is to change the data type of 99 to string`\n",
    "```python\n",
    "'I have eaten ' + str(99) + ' burritos.'\n",
    "```"
   ]
  },
  {
   "cell_type": "code",
   "execution_count": null,
   "metadata": {},
   "outputs": [],
   "source": []
  }
 ],
 "metadata": {
  "kernelspec": {
   "display_name": "Python 3",
   "language": "python",
   "name": "python3"
  },
  "language_info": {
   "name": "python",
   "version": "3.10.11"
  }
 },
 "nbformat": 4,
 "nbformat_minor": 2
}
