{
 "cells": [
  {
   "cell_type": "markdown",
   "metadata": {},
   "source": [
    "# Practice Questions"
   ]
  },
  {
   "cell_type": "markdown",
   "metadata": {},
   "source": [
    "## PQ Chapter 1: Python Basics | Page 73"
   ]
  },
  {
   "cell_type": "markdown",
   "metadata": {},
   "source": [
    "Q1: Which of the following are operators, and which are values?\n",
    "- `*`\n",
    "- 'hello'\n",
    "- -88.8\n",
    "- `-`\n",
    "- `/`\n",
    "- `+`\n",
    "- 5\n",
    "\n",
    "Q2: Which of the following is a variable, and which is a string?\n",
    "- spam\n",
    "- `'spam'`\n",
    "\n",
    "Q3: Name three data types.\n",
    "- `string, integer, float`\n",
    "\n",
    "Q4: What is an expression made up of? What do all expressions do?\n",
    "- `Combination of values and operators to evaluate or get single value`\n",
    "\n",
    "Q5: This chapter introduced assignment statements, like `spam = 10`. What is the difference between an expression and a statement?\n",
    "- `Expression consist of values and operators to evalute down a single value and assignment statement consist of vaiable name and equal sign`\n",
    "\n",
    "Q6: What does the variable `bacon` contain after the following code runs?\n",
    "```python\n",
    "bacon = 20\n",
    "bacon + 1\n",
    "```\n",
    "- `20`\n",
    "\n",
    "Q7: What should the following two expressions evaluate to?\n",
    "- 'spam' + 'spamspam' = `'spamspamspam'`\n",
    "- 'spam' * 3 = `'spamspamspam'`\n",
    "\n",
    "Q8: Why is `eggs` a valid variable name while `100` is invalid?\n",
    "- ` In python, a variable name should not start in numbers`\n",
    "\n",
    "Q9: What three functions can be used to get the integer, floating-point number, or string version of a value?\n",
    "-`int(), float(), str()`\n",
    "\n",
    "Q10: Why does this expression cause an error? How can you fix it?\n",
    "```python\n",
    "'I have eaten ' + 99 + ' burritos.'\n",
    "```\n",
    ">Extra credit: \n",
    "    Search online for the Python documentation for the `len()` function. It will be on a web page titled “Built-in Functions.” Skim the list of other functions Python has, look up what the `round()` function does, and experiment with it in the interactive shell.\n",
    "\n",
    "`The error cause of concatenating string and integer type. The solution for this is to change the data type of 99 to string`\n",
    "```python\n",
    "'I have eaten ' + str(99) + ' burritos.'\n",
    "```"
   ]
  },
  {
   "cell_type": "markdown",
   "metadata": {},
   "source": [
    "## PQ Chapter 2: Flow Control | Page 123                  "
   ]
  },
  {
   "cell_type": "markdown",
   "metadata": {},
   "source": [
    "Q1: What are the two values of the Boolean data type? How do you write them?\n",
    "``` python \n",
    "    True False\n",
    "```\n",
    "\n",
    "Q2: What are the three Boolean operators?\n",
    "- `and` | `&`\n",
    "- `or` | `|`\n",
    "- `not` \n",
    "\n",
    "Q3: Write out the truth tables of each Boolean operator (that is, every possible combination of Boolean values for the operator and what they evaluate to).\n",
    "``` python \n",
    "    # AND  Opeartor\n",
    "    True and True  # True\n",
    "    False and True  # False\n",
    "    False and False  # False\n",
    "\n",
    "    # OR Operator\n",
    "    True or True  # True\n",
    "    False or True  # True\n",
    "    False or False  # False\n",
    "\n",
    "    # NOT Operator\n",
    "    not True and True  # False\n",
    "    not False and True  # True\n",
    "    not False and False  # False\n",
    "    not True or True  # True\n",
    "    not False or True  # True\n",
    "    not False or False  # True\n",
    "```\n",
    "\n",
    "Q4: What do the following expressions evaluate to?\n",
    "\n",
    "```python\n",
    "    (5 > 4) and (3 == 5)  # (True) and (False) = False\n",
    "    not (5 > 4)  # not (True) = False\n",
    "    (5 > 4) or (3 == 5)  # (True) or (False) = True\n",
    "    not ((5 > 4) or (3 == 5))  # not ( (True) or (False) ) = False\n",
    "    (True and True) and (True == False)  # (True) and (False) = False\n",
    "    (not False) or (not True) # (True) or (False) = True\n",
    "```\n",
    "\n",
    "Q5: What are the six comparison operators?\n",
    "- `==` (equal to)\n",
    "- `!=` (not equal to)\n",
    "- `>` (greater than)\n",
    "- `<` (less than)\n",
    "- `>=` (greater than or equal to)\n",
    "- `<=` (less than or equal to)\n",
    "\n",
    "Q6: What is the difference between the equal to operator and the assignment operator?\n",
    "- `==` (equal to) - used for comparing two values and evaluates to a boolean\n",
    "- `=` (equal) - used for assigning values to a variable\n",
    "\n",
    "Q7: Explain what a condition is and where you would use one.\n",
    "- `Condition is a expression that evaluate True or False. Condition is used in the following:`\n",
    "    - `if  elif else statement`\n",
    "    - `Compaison operators`\n",
    "    - `Boolean`\n",
    "    - `loop statements`\n",
    "\n",
    "Q8: Identify the three blocks in this code:\n",
    "```python\n",
    "    spam = 0\n",
    "    if spam == 10:\n",
    "        print('eggs')\n",
    "        if spam > 5:\n",
    "            print('bacon')\n",
    "        else:\n",
    "            print('ham')\n",
    "        print('spam')\n",
    "    print('spam')\n",
    "```\n",
    "\n",
    "- 1st block: \n",
    "    ``` python\n",
    "    if spam == 10:\n",
    "        print('eggs')\n",
    "        if spam > 5:\n",
    "            print('bacon')\n",
    "        else:\n",
    "            print('ham')\n",
    "        print('spam')\n",
    "    ```\n",
    "- 2nd block:\n",
    "    ``` python\n",
    "    if spam > 5:\n",
    "        print('bacon')\n",
    "    ```\n",
    "- 3rd block:\n",
    "    ``` python\n",
    "    else:\n",
    "        print('ham')\n",
    "    ```\n",
    "Q9: Write code that prints Hello if 1 is stored in spam, prints Howdy if 2 is stored in spam, and prints Greetings! if anything else is stored in spam.\n",
    "``` python\n",
    "spam = 0\n",
    "if spam == 1:\n",
    "    print(\"Hello\")\n",
    "elif spam == 2:\n",
    "    print(\"Howdy\")\n",
    "else:\n",
    "    print(\"Greetings!\")\n",
    "```\n",
    "\n",
    "Q10: What can you press if your program is stuck in an infinite loop?\n",
    "- `Ctrl + C`\n",
    "\n",
    "Q11: What is the difference between break and continue?\n",
    "- `break statement will move the execution outside of the loop while continue statement will jump to the start of the loop `\n",
    "\n",
    "Q12: What is the difference between range(10), range(0, 10), and range(0, 10, 1) in a for loop?\n",
    "- `They have diffeence between the parameter they used but the result of the three range is the same which is 0 to 9`\n",
    "\n",
    "Q13: Write a short program that prints the numbers 1 to 10 using a for loop. Then write an equivalent?\n",
    "``` python\n",
    "for n in range(1, 11):\n",
    "    print(n) \n",
    "\n",
    "n = 1\n",
    "while n != 11:\n",
    "    print(n)\n",
    "    n += 1\n",
    "```\n",
    "\n",
    "Q14: If you had a function named bacon() inside a module named spam, how would you call it after importing spam?\n",
    "``` python\n",
    "from spam import bacon\n",
    "\n",
    "bacon()\n",
    "```\n",
    "> Extra credit: Look up the round() and abs() functions on the Internet, and find out what they do.\n",
    "Experiment with them in the interactive shell.\n",
    "\n"
   ]
  },
  {
   "cell_type": "markdown",
   "metadata": {},
   "source": [
    "## PQ Chapter 3: Flow Control | Page 148               "
   ]
  },
  {
   "cell_type": "markdown",
   "metadata": {},
   "source": [
    "Q1:  Why are functions advantageous to have in your programs?\n",
    "- `Functions makes your code reusable`\n",
    "  \n",
    "Q2:  When does the code in a function execute: when the function is defined or when the function is\n",
    "called?\n",
    "- `The function will be executed once the function is created before the function call`\n",
    "  \n",
    "Q3:  What statement creates a function?\n",
    "- `def statement`\n",
    "  \n",
    "Q4:  What is the difference between a function and a function call?\n",
    "- `Function uses def statement while function call execute the program that the function holds and return a value`\n",
    "  \n",
    "Q5:  How many global scopes are there in a Python program? How many local scopes?\n",
    "- `One per each`\n",
    "\n",
    "Q6:  What happens to variables in a local scope when the function call returns?\n",
    "- `The local variable will be terminated`\n",
    "\n",
    "Q7:  What is a return value? Can a return value be part of an expression?\n",
    "- `retun value use in the function give a value or output. `\n",
    "  \n",
    "Q8:  If a function does not have a return statement, what is the return value of a call to that function?\n",
    "-`It will return a None`\n",
    "\n",
    "Q9:  How can you force a variable in a function to refer to the global variable?\n",
    "-`Using global statement`\n",
    "\n",
    "Q10:  What is the data type of None?\n",
    "-`NoneType`\n",
    "\n",
    "Q11:  What does the import areallyourpetsnamederic statement do?\n",
    "- `There is no areallyourpetsnamederic module in python unless we create this module in our local Machine`\n",
    "  \n",
    "Q12:  If you had a function named bacon() in a module named spam, how would you call it after\n",
    "importing spam?\n",
    "- `spam.bacon()`\n",
    "\n",
    "Q13:  How can you prevent a program from crashing when it gets an error?\n",
    "- `Add Error handling(Try & except clause ) code`\n",
    "   \n",
    "Q14:  What goes in the try clause? What goes in the except clause?\n",
    "- `All in the try blocks will catch all the error within the block and the except clause is the one will handle the error that try clause catches`\n"
   ]
  },
  {
   "cell_type": "code",
   "execution_count": null,
   "metadata": {},
   "outputs": [],
   "source": []
  },
  {
   "cell_type": "markdown",
   "metadata": {},
   "source": [
    "# Programs"
   ]
  },
  {
   "cell_type": "markdown",
   "metadata": {},
   "source": [
    "## Practice Projects"
   ]
  },
  {
   "cell_type": "markdown",
   "metadata": {},
   "source": [
    "### Chapter 2"
   ]
  },
  {
   "cell_type": "markdown",
   "metadata": {},
   "source": [
    "#### The Collatz Sequence | Page 150"
   ]
  },
  {
   "cell_type": "code",
   "execution_count": 5,
   "metadata": {},
   "outputs": [
    {
     "name": "stdout",
     "output_type": "stream",
     "text": [
      "Number entered: 3\n",
      "Collatz value: 10\n",
      "Number entered: 5\n",
      "Collatz value: 16\n",
      "Number entered: 8\n",
      "Collatz value: 4\n",
      "Number entered: 2\n",
      "Collatz value: 1\n"
     ]
    }
   ],
   "source": [
    "def collatz(number):\n",
    "    \"\"\" Collatz sequence, sometimes called “the simplest impossible math problem \"\"\"\n",
    "    if number % 2 == 0:\n",
    "        # Even number\n",
    "        return number // 2\n",
    "    else: \n",
    "        # Odd number\n",
    "        return 3 * number + 1\n",
    "\n",
    "value = 0\n",
    "while value != 1:\n",
    "    try:\n",
    "        num = int(input(\"Enter number: \"))\n",
    "        print(f\"Number entered: {num}\")\n",
    "        value = collatz(num)  # Call the function with the input number\n",
    "        print(f\"Collatz value: {collatz(num)}\")\n",
    "    except Exception as e:\n",
    "        print(f\"Please type integer numbers only\")\n",
    "\n"
   ]
  },
  {
   "cell_type": "markdown",
   "metadata": {},
   "source": [
    "## Exercise Programs"
   ]
  },
  {
   "cell_type": "markdown",
   "metadata": {},
   "source": [
    "### Chapter 2"
   ]
  },
  {
   "cell_type": "markdown",
   "metadata": {},
   "source": [
    "#### Guess the Number | 144"
   ]
  },
  {
   "cell_type": "code",
   "execution_count": null,
   "metadata": {},
   "outputs": [],
   "source": [
    "import random\n",
    "rand_num = random.randint(1,20)  # Generate Random number from 1 to 20\n",
    "num_guess = 0  # Number of Guess\n",
    "print('I am thinking of a number between 1 and 20: ')\n",
    "\n",
    "while True:\n",
    "    \n",
    "    guess = int(input('Take a Guess: '))\n",
    "    \n",
    "    if guess == rand_num:\n",
    "        print(f\"Good job! You guessed my number in {num_guess} guesses!\")\n",
    "        break\n",
    "    elif guess > rand_num:\n",
    "        print(\"Your guess is too high.\")\n",
    "    elif guess < rand_num:\n",
    "        print(\"Your guess is too low.\")\n",
    "    print(guess)\n",
    "    num_guess += 1\n",
    "    \n",
    "    "
   ]
  },
  {
   "cell_type": "markdown",
   "metadata": {},
   "source": []
  }
 ],
 "metadata": {
  "kernelspec": {
   "display_name": "Python 3",
   "language": "python",
   "name": "python3"
  },
  "language_info": {
   "codemirror_mode": {
    "name": "ipython",
    "version": 3
   },
   "file_extension": ".py",
   "mimetype": "text/x-python",
   "name": "python",
   "nbconvert_exporter": "python",
   "pygments_lexer": "ipython3",
   "version": "3.10.11"
  }
 },
 "nbformat": 4,
 "nbformat_minor": 2
}
