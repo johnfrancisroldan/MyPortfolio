{
 "cells": [
  {
   "cell_type": "markdown",
   "metadata": {},
   "source": [
    "# Practice Questions"
   ]
  },
  {
   "cell_type": "markdown",
   "metadata": {},
   "source": [
    "## PQ Chapter 1: Python Basics | Page 73"
   ]
  },
  {
   "cell_type": "markdown",
   "metadata": {},
   "source": [
    "Q1: Which of the following are operators, and which are values?\n",
    "- `*`\n",
    "- 'hello'\n",
    "- -88.8\n",
    "- `-`\n",
    "- `/`\n",
    "- `+`\n",
    "- 5\n",
    "\n",
    "Q2: Which of the following is a variable, and which is a string?\n",
    "- spam\n",
    "- `'spam'`\n",
    "\n",
    "Q3: Name three data types.\n",
    "- `string, integer, float`\n",
    "\n",
    "Q4: What is an expression made up of? What do all expressions do?\n",
    "- `Combination of values and operators to evaluate or get single value`\n",
    "\n",
    "Q5: This chapter introduced assignment statements, like `spam = 10`. What is the difference between an expression and a statement?\n",
    "- `Expression consist of values and operators to evalute down a single value and assignment statement consist of vaiable name and equal sign`\n",
    "\n",
    "Q6: What does the variable `bacon` contain after the following code runs?\n",
    "```python\n",
    "bacon = 20\n",
    "bacon + 1\n",
    "```\n",
    "- `20`\n",
    "\n",
    "Q7: What should the following two expressions evaluate to?\n",
    "- 'spam' + 'spamspam' = `'spamspamspam'`\n",
    "- 'spam' * 3 = `'spamspamspam'`\n",
    "\n",
    "Q8: Why is `eggs` a valid variable name while `100` is invalid?\n",
    "- ` In python, a variable name should not start in numbers`\n",
    "\n",
    "Q9: What three functions can be used to get the integer, floating-point number, or string version of a value?\n",
    "-`int(), float(), str()`\n",
    "\n",
    "Q10: Why does this expression cause an error? How can you fix it?\n",
    "```python\n",
    "'I have eaten ' + 99 + ' burritos.'\n",
    "```\n",
    ">Extra credit: \n",
    "    Search online for the Python documentation for the `len()` function. It will be on a web page titled “Built-in Functions.” Skim the list of other functions Python has, look up what the `round()` function does, and experiment with it in the interactive shell.\n",
    "\n",
    "`The error cause of concatenating string and integer type. The solution for this is to change the data type of 99 to string`\n",
    "```python\n",
    "'I have eaten ' + str(99) + ' burritos.'\n",
    "```"
   ]
  },
  {
   "cell_type": "markdown",
   "metadata": {},
   "source": [
    "## PQ Chapter 2: Flow Control | Page 123                  "
   ]
  },
  {
   "cell_type": "markdown",
   "metadata": {},
   "source": [
    "Q1: What are the two values of the Boolean data type? How do you write them?\n",
    "``` python \n",
    "    True False\n",
    "```\n",
    "\n",
    "Q2: What are the three Boolean operators?\n",
    "- `and` | `&`\n",
    "- `or` | `|`\n",
    "- `not` \n",
    "\n",
    "Q3: Write out the truth tables of each Boolean operator (that is, every possible combination of Boolean values for the operator and what they evaluate to).\n",
    "``` python \n",
    "    # AND  Opeartor\n",
    "    True and True  # True\n",
    "    False and True  # False\n",
    "    False and False  # False\n",
    "\n",
    "    # OR Operator\n",
    "    True or True  # True\n",
    "    False or True  # True\n",
    "    False or False  # False\n",
    "\n",
    "    # NOT Operator\n",
    "    not True and True  # False\n",
    "    not False and True  # True\n",
    "    not False and False  # False\n",
    "    not True or True  # True\n",
    "    not False or True  # True\n",
    "    not False or False  # True\n",
    "```\n",
    "\n",
    "Q4: What do the following expressions evaluate to?\n",
    "\n",
    "```python\n",
    "    (5 > 4) and (3 == 5)  # (True) and (False) = False\n",
    "    not (5 > 4)  # not (True) = False\n",
    "    (5 > 4) or (3 == 5)  # (True) or (False) = True\n",
    "    not ((5 > 4) or (3 == 5))  # not ( (True) or (False) ) = False\n",
    "    (True and True) and (True == False)  # (True) and (False) = False\n",
    "    (not False) or (not True) # (True) or (False) = True\n",
    "```\n",
    "\n",
    "Q5: What are the six comparison operators?\n",
    "- `==` (equal to)\n",
    "- `!=` (not equal to)\n",
    "- `>` (greater than)\n",
    "- `<` (less than)\n",
    "- `>=` (greater than or equal to)\n",
    "- `<=` (less than or equal to)\n",
    "\n",
    "Q6: What is the difference between the equal to operator and the assignment operator?\n",
    "- `==` (equal to) - used for comparing two values and evaluates to a boolean\n",
    "- `=` (equal) - used for assigning values to a variable\n",
    "\n",
    "Q7: Explain what a condition is and where you would use one.\n",
    "- `Condition is a expression that evaluate True or False. Condition is used in the following:`\n",
    "    - `if  elif else statement`\n",
    "    - `Compaison operators`\n",
    "    - `Boolean`\n",
    "    - `loop statements`\n",
    "\n",
    "Q8: Identify the three blocks in this code:\n",
    "```python\n",
    "    spam = 0\n",
    "    if spam == 10:\n",
    "        print('eggs')\n",
    "        if spam > 5:\n",
    "            print('bacon')\n",
    "        else:\n",
    "            print('ham')\n",
    "        print('spam')\n",
    "    print('spam')\n",
    "```\n",
    "\n",
    "- 1st block: \n",
    "    ``` python\n",
    "    if spam == 10:\n",
    "        print('eggs')\n",
    "        if spam > 5:\n",
    "            print('bacon')\n",
    "        else:\n",
    "            print('ham')\n",
    "        print('spam')\n",
    "    ```\n",
    "- 2nd block:\n",
    "    ``` python\n",
    "    if spam > 5:\n",
    "        print('bacon')\n",
    "    ```\n",
    "- 3rd block:\n",
    "    ``` python\n",
    "    else:\n",
    "        print('ham')\n",
    "    ```\n",
    "Q9: Write code that prints Hello if 1 is stored in spam, prints Howdy if 2 is stored in spam, and prints Greetings! if anything else is stored in spam.\n",
    "``` python\n",
    "spam = 0\n",
    "if spam == 1:\n",
    "    print(\"Hello\")\n",
    "elif spam == 2:\n",
    "    print(\"Howdy\")\n",
    "else:\n",
    "    print(\"Greetings!\")\n",
    "```\n",
    "\n",
    "Q10: What can you press if your program is stuck in an infinite loop?\n",
    "- `Ctrl + C`\n",
    "\n",
    "Q11: What is the difference between break and continue?\n",
    "- `break statement will move the execution outside of the loop while continue statement will jump to the start of the loop `\n",
    "\n",
    "Q12: What is the difference between range(10), range(0, 10), and range(0, 10, 1) in a for loop?\n",
    "- `They have diffeence between the parameter they used but the result of the three range is the same which is 0 to 9`\n",
    "\n",
    "Q13: Write a short program that prints the numbers 1 to 10 using a for loop. Then write an equivalent?\n",
    "``` python\n",
    "for n in range(1, 11):\n",
    "    print(n) \n",
    "\n",
    "n = 1\n",
    "while n != 11:\n",
    "    print(n)\n",
    "    n += 1\n",
    "```\n",
    "\n",
    "Q14: If you had a function named bacon() inside a module named spam, how would you call it after importing spam?\n",
    "``` python\n",
    "from spam import bacon\n",
    "\n",
    "bacon()\n",
    "```\n",
    "> Extra credit: Look up the round() and abs() functions on the Internet, and find out what they do.\n",
    "Experiment with them in the interactive shell.\n",
    "\n"
   ]
  },
  {
   "cell_type": "markdown",
   "metadata": {},
   "source": [
    "## PQ Chapter 3: Function | Page 148               "
   ]
  },
  {
   "cell_type": "markdown",
   "metadata": {},
   "source": [
    "Q1:  Why are functions advantageous to have in your programs?\n",
    "- `Functions makes your code reusable`\n",
    "  \n",
    "Q2:  When does the code in a function execute: when the function is defined or when the function is\n",
    "called?\n",
    "- `The function will be executed once the function is created before the function call`\n",
    "  \n",
    "Q3:  What statement creates a function?\n",
    "- `def statement`\n",
    "  \n",
    "Q4:  What is the difference between a function and a function call?\n",
    "- `Function uses def statement while function call execute the program that the function holds and return a value`\n",
    "  \n",
    "Q5:  How many global scopes are there in a Python program? How many local scopes?\n",
    "- `One per each`\n",
    "\n",
    "Q6:  What happens to variables in a local scope when the function call returns?\n",
    "- `The local variable will be terminated`\n",
    "\n",
    "Q7:  What is a return value? Can a return value be part of an expression?\n",
    "- `retun value use in the function give a value or output. `\n",
    "  \n",
    "Q8:  If a function does not have a return statement, what is the return value of a call to that function?\n",
    "-`It will return a None`\n",
    "\n",
    "Q9:  How can you force a variable in a function to refer to the global variable?\n",
    "-`Using global statement`\n",
    "\n",
    "Q10:  What is the data type of None?\n",
    "-`NoneType`\n",
    "\n",
    "Q11:  What does the import areallyourpetsnamederic statement do?\n",
    "- `There is no areallyourpetsnamederic module in python unless we create this module in our local Machine`\n",
    "  \n",
    "Q12:  If you had a function named bacon() in a module named spam, how would you call it after\n",
    "importing spam?\n",
    "- `spam.bacon()`\n",
    "\n",
    "Q13:  How can you prevent a program from crashing when it gets an error?\n",
    "- `Add Error handling(Try & except clause ) code`\n",
    "   \n",
    "Q14:  What goes in the try clause? What goes in the except clause?\n",
    "- `All in the try blocks will catch all the error within the block and the except clause is the one will handle the error that try clause catches`\n"
   ]
  },
  {
   "cell_type": "markdown",
   "metadata": {},
   "source": [
    "## PQ Chapter 4: List | Page 193            "
   ]
  },
  {
   "cell_type": "markdown",
   "metadata": {},
   "source": [
    "Q1:  What is []?\n",
    "- `Empty List`\n",
    "\n",
    "Q2:  How would you assign the value 'hello' as the third value in a list stored in a variable named\n",
    "spam? (Assume spam contains [2, 4, 6, 8, 10].)\n",
    "``` python \n",
    "spam = [2, 4, 6, 8, 10]\n",
    "spam[2] = 'hello' # Replace the third value\n",
    "print(spam) # [2, 4, 'hello', 8, 10]\n",
    "```\n",
    "\n",
    "For the following three questions, let’s say spam contains the list ['a', 'b', 'c', 'd'].\n",
    "\n",
    "Q3:  What does spam[int(int('3' * 2) / 11)] evaluate to?\n",
    "```\n",
    "Break down of the code:\n",
    "B01: spam[int(int('3' * 2) / 11)]\n",
    "B02: spam[int(int('333') / 11)]\n",
    "B03: spam[int(30)] # Index Error\n",
    "```\n",
    "`It will be resut to index error due to the index out of range/bounce`\n",
    "\n",
    "Q4:  What does spam[-1] evaluate to?\n",
    "- `Last item of the spam list which is 'd'`\n",
    "\n",
    "Q5:  What does spam[:2] evaluate to?\n",
    "- `[a, b]`\n",
    "\n",
    "For the following three questions, let’s say bacon contains the list [3.14, 'cat', 11, 'cat', True].\n",
    "\n",
    "Q6:  What does bacon.index('cat') evaluate to?\n",
    "- `index 1`\n",
    "\n",
    "Q7:  What does bacon.append(99) make the list value in bacon look like?\n",
    "- `[3.14, 'cat', 11, 'cat', True, 99]`\n",
    "\n",
    "Q8:  What does bacon.remove('cat') make the list value in bacon look like?\n",
    "- `[3.14, 'cat', 11, True]`\n",
    "\n",
    "Q9:  What are the operators for list concatenation and list replication?\n",
    "- `List Concatenation: '+'`\n",
    "- `List Replication: '*'`\n",
    "\n",
    "Q10:  What is the difference between the append() and insert() list methods?\n",
    "- `append() use to add an item at the end of the list while insert can specify which index the new item will be added.`\n",
    "\n",
    "Q11:  What are two ways to remove values from a list?\n",
    "- `del and .remove(). We can also use .pop()`\n",
    "\n",
    "Q12:  Name a few ways that list values are similar to string values.\n",
    "- `Mutable(Concateation, Replication)`\n",
    "- `Indexing`\n",
    "\n",
    "Q13:  What is the difference between lists and tuples?\n",
    "- `Lists(square bracket) are mutable while tuples(paretheses) are immutable.`\n",
    "\n",
    "Q14:  How do you type the tuple value that has just the integer value 42 in it?\n",
    "- `my_tuple = (42,)`\n",
    "\n",
    "Q15:  How can you get the tuple form of a list value? How can you get the list form of a tuple value?\n",
    "- `List to tuple : tuple([\"list_values\"])`\n",
    "- `Tuple to list : list((\"tuple_values\",))`\n",
    "\n",
    "Q16:  Variables that “contain” list values don’t actually contain lists directly. What do they contain instead?\n",
    "- `List value can contains different kinds of data types and group them as a single list`\n",
    "\n",
    "Q17:  What is the difference between copy.copy() and copy.deepcopy()?\n",
    "- `copy.copy() - create a copy of exisiting list and apply modificatiom without affectig the origal list variable`\n",
    "- `copy.deepcopy() - will duplicate any lists inside the list.`\n"
   ]
  },
  {
   "cell_type": "markdown",
   "metadata": {},
   "source": [
    "## PQ Chapter 5: Dictionaries and Structuring Data | Page 220"
   ]
  },
  {
   "cell_type": "markdown",
   "metadata": {},
   "source": [
    "Q1: What does the code for an empty dictionary look like?\n",
    "- `{}`\n",
    "\n",
    "Q2: What does a dictionary value with a key 'foo' and a value 42 look like?\n",
    "- `{'foo': 42}`\n",
    "\n",
    "Q3: What is the main difference between a dictionary and a list?\n",
    "- `The items in the List are ordered while dictionary are unordered.`\n",
    "\n",
    "Q4: What happens if you try to access spam['foo'] if spam is {'bar': 100}?\n",
    "- `If foo is not in the dictionary you will get KeyError`\n",
    "\n",
    "Q5: If a dictionary is stored in spam, what is the difference between the expressions 'cat' in spam and 'cat' in spam.keys()?\n",
    "- `There is no difference between them because they have the same output`\n",
    "\n",
    "Q6: If a dictionary is stored in spam, what is the difference between the expressions 'cat' in spam and 'cat' in spam.values()?\n",
    "- `'cat' in spam` - this expressions use for finding a key in the dictionary\n",
    "- `'cat' in spam.values()` - this expressions use to find the values in the dictionary \n",
    "\n",
    "\n",
    "Q7: What is a shortcut for the following code?\n",
    "``` python\n",
    "if 'color' not in spam:\n",
    "    spam['color'] = 'black'\n",
    "```\n",
    "- `spam.setdefault('color', 'black')`\n",
    "\n",
    "Q8: What module and function can be used to “pretty print” dictionary values?\n",
    "- `pprint` from `pprint` module\n",
    "\n"
   ]
  },
  {
   "cell_type": "markdown",
   "metadata": {},
   "source": [
    "## PQ: Chapter 6: Manipulating Strings | Page 253|"
   ]
  },
  {
   "cell_type": "markdown",
   "metadata": {},
   "source": [
    "Q: 1. What are escape characters?\n",
    "- `It's a character that help you to manipulate in string values into code`\n",
    "\n",
    "Q: 2. What do the \\n and \\t escape characters represent?\n",
    "- `\\n` represents a new line, \n",
    "- `\\t` represents a tab.\n",
    "\n",
    "Q: 3. How can you put a \\ backslash character in a string?\n",
    "- `Double backslash(\\\\)`\n",
    "\n",
    "Q: 4. The string value \"Howl's Moving Castle\" is a valid string. Why isn’t it a problem that the single quote character in the word Howl's isn’t escaped?\n",
    "- `The single quote is valid because it uses double quotation marks(\"\") in the beginning and end of the string value`\n",
    "\n",
    "Q: 5. If you don’t want to put \\n in your string, how can you write a string with newlines in it?\n",
    "- `Triple Double quotation marks(\"\"\" \"\"\")`\n",
    "``` python\n",
    "print(\"\"\" \n",
    "Howl's \n",
    "Moving\n",
    "Castle\n",
    "\"\"\")\n",
    "\n",
    "```\n",
    "\n",
    "Q: 6. What do the following expressions evaluate to?\n",
    "- 'Hello world!'[1]  # `A: e`\n",
    "- 'Hello world!'[0:5]  # `A: Hello`\n",
    "- 'Hello world!'[:5]  # `A: Hello`\n",
    "- 'Hello world!'[3:]  # `A: lo world!`\n",
    "\n",
    "Q: 7. What do the following expressions evaluate to?\n",
    "- 'Hello'.upper()  # `A: HELLO`\n",
    "- 'Hello'.upper().isupper()  # `A: True`\n",
    "- 'Hello'.upper().lower()  # `A: hello`\n",
    "\n",
    "Q: 8. What do the following expressions evaluate to?\n",
    "'Remember, remember, the fifth of November.'.split()\n",
    "- `['Remember,', 'remember,', 'the', 'fifth', 'of', 'November.']`\n",
    "\n",
    "'-'.join('There can be only one.'.split())\n",
    "- `There-can-be-only-one.`\n",
    "\n",
    "Q: 9. What string methods can you use to right-justify, left-justify, and center a string?\n",
    "- `rjust(), ljust(), center()`\n",
    "\n",
    "Q: 10. How can you trim whitespace characters from the beginning or end of a string?\n",
    "- `strip() remove all whitespaces to all sides`\n",
    "- `lstrip() remove all whitespaces from the left side`\n",
    "- `rstrip() remove all whitespaces from the right side`"
   ]
  },
  {
   "cell_type": "markdown",
   "metadata": {},
   "source": [
    "## PQ: Chapter 7: Regular Expression | Page 295"
   ]
  },
  {
   "cell_type": "markdown",
   "metadata": {},
   "source": [
    "Q: 1. What is the function that creates Regex objects?\n",
    "- `re.comiple()`\n",
    "\n",
    "Q: 2. Why are raw strings often used when creating Regex objects?\n",
    "- `It is easier to creating a RegEx pattern because it prevent us to use whitespace chracter while creating a Regex pattern.` CA: Raw string are used so that backlashes do not have to be escaped\n",
    "  \n",
    "Q: 3. What does the search() method return?\n",
    "- CA: returns **Match** objects\n",
    "\n",
    "Q: 4. How do you get the actual strings that match the pattern from a Match object?\n",
    "- `group()` or `groups()`\n",
    "\n",
    "Q: 5. In the regex created from r'(\\d\\d\\d)-(\\d\\d\\d-\\d\\d\\d\\d)', what does group 0 cover? Group 1?\n",
    "Group 2?\n",
    "- CA: \n",
    "  - `Group 0 is the entire match`\n",
    "  - `Group 1 covers the first set of parentheses`\n",
    "  - `Group 2 covers the second set of paretheses`\n",
    "\n",
    "Q: 6. Parentheses and periods have specific meanings in regular expression syntax. How would you\n",
    "specify that you want a regex to match actual parentheses and period characters?\n",
    "- `r'[().]'`\n",
    "- `r'(\\(\\)\\.)'`\n",
    "- CA: Periods and Parentheses can be escaped with a backslash: `\\., \\(, and, \\)`\n",
    "\n",
    "Q: 7. The findall() method returns a list of strings or a list of tuples of strings. What makes it return\n",
    "one or the other?\n",
    "- CA: `If the regex hax no groups, a list of strings is returned. If the regex has groups, as list of tuples of strings is returned.`\n",
    "\n",
    "Q: 8. What does the | character signify in regular expressions?\n",
    "- CA: matching `either, OR` between two groups\n",
    "\n",
    "Q: 9. What two things does the ? character signify in regular expressions?\n",
    "- `Match zero or one of the preceding gorup or be used to signify nongreedy matching`\n",
    "\n",
    "Q: 10. What is the difference between the + and * characters in regular expressions?\n",
    "- +: 1 or more word to match\n",
    "- ?: 0 or more word to match\n",
    "\n",
    "Q: 11. What is the difference between {3} and {3,5} in regular expressions?\n",
    "- `{3} - repeat the pattern 3 times`\n",
    "- `{3,5} -repeat the pattern 3 to 5 times`\n",
    "\n",
    "Q: 12. What do the \\d, \\w, and \\s shorthand character classes signify in regular expressions?\n",
    "- `\\d - match any single digits(0-9)`\n",
    "- `\\w - match any single alphanumeric(A-Z, a-z, 0-9, _)`\n",
    "- `\\s - match any whitespaces(tab, space, newline)`\n",
    "\n",
    "Q: 13. What do the \\D, \\W, and \\S shorthand character classes signify in regular expressions?\n",
    "- `\\D - match any signle non-digits(A-Z, a-z, !)`\n",
    "- `\\W - match any signle non-alphanumeric(!, whitespace)`\n",
    "- `\\S - match any non-whitespaces(A-Z, a-z, !)`\n",
    "\n",
    "Q: 14. How do you make a regular expression case-insensitive?\n",
    "- `re.compile(RegexPattern, RE.IGNORECASE) # RE.I`\n",
    "\n",
    "Q: 15. What does the . character normally match? What does it match if re.DOTALL is passed as the\n",
    "second argument to re.compile()?\n",
    "- `. Matches all chracters except newline but if we use re.DOTALL it will match all chacter including newline`\n",
    "\n",
    "Q: 16. What is the difference between .* and .*??\n",
    "- CA:\n",
    "  - `.* - greedy match`\n",
    "  - `.? - nongreedy match`\n",
    "\n",
    "\n",
    "Q: 17. What is the character class syntax to match all numbers and lowercase letters?\n",
    "- `[0-9a-z] or [a-z0-9]`\n",
    "  \n",
    "\n",
    "Q: 18. If numRegex = re.compile(r'\\d+'), what will numRegex.sub('X', '12 drummers, 11\n",
    "pipers, five rings, 3 hens') return?\n",
    "- `returns: 'X drummers, X pipers, five rings, X hens'`\n",
    "  \n",
    "Q: 19. What does passing re.VERBOSE as the second argument to re.compile() allow you to do?\n",
    "- `Allows you to organize your RegEx Pattern and apply comments in your RegEx Pattern without error`\n",
    "- `CA: allows you to add whitespace and comments the string passed to re.compile()`\n",
    "\n",
    "Q: 20. How would you write a regex that matches a number with commas for every three digits?\n",
    "- CA: `r'^\\d{1,3}(,\\d{3})*$'`\n",
    "\n",
    "Q: 21. How would you write a regex that matches the full name of someone whose last name is\n",
    "Nakamoto? You can assume that the first name that comes before it will always be one word that\n",
    "begins with a capital letter. The regex must match the following:\n",
    "    'Satoshi Nakamoto'\n",
    "    'Alice Nakamoto'\n",
    "    'RoboCop Nakamoto'\n",
    "but not the following:\n",
    "    'satoshi Nakamoto' (where the first name is not capitalized)\n",
    "    'Mr. Nakamoto' (where the preceding word has a nonletter character)\n",
    "    'Nakamoto' (which has no first name)\n",
    "    'Satoshi nakamoto' (where Nakamoto is not capitalized)\n",
    "\n",
    "``` python\n",
    "nakamoto = re.compile(r'([A-Z]\\w+\\sNakamoto$)') \n",
    "nakamoto.findall(n) \n",
    "```\n",
    "- `CA: re.compile(r'[A-Za-z]*\\ssNakamoto')`\n",
    "\n",
    "Q: 22. How would you write a regex that matches a sentence where the first word is either Alice, Bob, or Carol; the second word is either eats, pets, or throws; the third word is apples, cats, or baseballs; and the sentence ends with a period? This regex should be case-insensitive. It must match the following:\n",
    "    'Alice eats apples.'\n",
    "    'Bob pets cats.'\n",
    "    'Carol throws baseballs.'\n",
    "    'Alice throws Apples.'\n",
    "    'BOB EATS CATS.'\n",
    "but not the following:\n",
    "    'RoboCop eats apples.'\n",
    "    'ALICE THROWS FOOTBALLS.'\n",
    "    'Carol eats 7 cats.'\n",
    "\n",
    "``` python\n",
    "sentence = re.compile(r'^(Alice|Bob|Carol)\\s(eats|pets|throws)\\s(apples|cats|baseballs)(\\.)$', re.I)\n",
    "print(\" \".join(sentence.findall(n)[0]))\n",
    "```\n"
   ]
  },
  {
   "cell_type": "code",
   "execution_count": null,
   "metadata": {},
   "outputs": [
    {
     "data": {
      "text/plain": [
       "['NakamotoRoboCop Nakamoto']"
      ]
     },
     "execution_count": 3,
     "metadata": {},
     "output_type": "execute_result"
    }
   ],
   "source": [
    "import re \n",
    "n = \"Satoshi Nakamoto\\\n",
    "Alice Nakamoto\\\n",
    "RoboCop Nakamoto\\\n",
    "\"\n",
    "nakamoto = re.compile(r'([A-Z]\\w+\\sNakamoto$)') \n",
    "nakamoto.findall(n) "
   ]
  },
  {
   "cell_type": "code",
   "execution_count": 1,
   "metadata": {},
   "outputs": [
    {
     "name": "stdout",
     "output_type": "stream",
     "text": [
      "[('Alice', 'eats', 'apples', '.')]\n",
      "[('Bob', 'pets', 'cats', '.')]\n",
      "[('Carol', 'throws', 'baseballs', '.')]\n",
      "[('Alice', 'throws', 'Apples', '.')]\n",
      "[('BOB', 'EATS', 'CATS', '.')]\n",
      "[]\n",
      "[]\n",
      "[]\n"
     ]
    }
   ],
   "source": [
    "import re\n",
    "names = \"\"\"\n",
    "Alice eats apples.\n",
    "Bob pets cats.\n",
    "Carol throws baseballs.\n",
    "Alice throws Apples.\n",
    "BOB EATS CATS.\n",
    "RoboCop eats apples.\n",
    "ALICE THROWS FOOTBALLS.\n",
    "Carol eats 7 cats.\n",
    "\"\"\".strip()\n",
    "for n in names.split(\"\\n\"):\n",
    "    sentence = re.compile(r'^(Alice|Bob|Carol)\\s(eats|pets|throws)\\s(apples|cats|baseballs)(\\.)$', re.I)\n",
    "    print(sentence.findall(n))\n",
    "    # print(\" \".join(sentence.findall(n)[0]))"
   ]
  },
  {
   "cell_type": "markdown",
   "metadata": {},
   "source": [
    "# Programs"
   ]
  },
  {
   "cell_type": "markdown",
   "metadata": {},
   "source": [
    "## Practice Projects"
   ]
  },
  {
   "cell_type": "markdown",
   "metadata": {},
   "source": [
    "### Chapter 3: Functions"
   ]
  },
  {
   "cell_type": "markdown",
   "metadata": {},
   "source": [
    "#### The Collatz Sequence | Page 150"
   ]
  },
  {
   "cell_type": "code",
   "execution_count": 23,
   "metadata": {},
   "outputs": [
    {
     "name": "stdout",
     "output_type": "stream",
     "text": [
      "Please type integer numbers only\n",
      "Please type integer numbers only\n",
      "Please type integer numbers only\n",
      "Please type integer numbers only\n",
      "Please type integer numbers only\n",
      "Please type integer numbers only\n",
      "Please type integer numbers only\n",
      "Please type integer numbers only\n",
      "Please type integer numbers only\n",
      "Please type integer numbers only\n",
      "Please type integer numbers only\n",
      "Please type integer numbers only\n",
      "Please type integer numbers only\n",
      "Please type integer numbers only\n",
      "Please type integer numbers only\n",
      "Please type integer numbers only\n",
      "Number entered: 1\n",
      "Collatz value: 4\n",
      "Number entered: 1\n",
      "Collatz value: 4\n",
      "Number entered: 1\n",
      "Collatz value: 4\n",
      "Number entered: 2\n",
      "Collatz value: 1\n"
     ]
    }
   ],
   "source": [
    "def collatz(number):\n",
    "    \"\"\" Collatz sequence, sometimes called “the simplest impossible math problem \"\"\"\n",
    "    if number % 2 == 0:\n",
    "        # Even number\n",
    "        return number // 2\n",
    "    else: \n",
    "        # Odd number\n",
    "        return 3 * number + 1\n",
    "\n",
    "# Continue the program until collatz have a value of 1\n",
    "value = 0\n",
    "while value != 1:\n",
    "    # Error Hadling\n",
    "    try:\n",
    "        # User Input\n",
    "        num = int(input(\"Enter number: \"))\n",
    "        print(f\"Number entered: {num}\")\n",
    "\n",
    "        # Call the function with the input number\n",
    "        value = collatz(num) \n",
    "        print(f\"Collatz value: {collatz(num)}\")\n",
    "    except Exception as e:\n",
    "        # Error Message\n",
    "        print(f\"Please type integer numbers only\")\n",
    "\n"
   ]
  },
  {
   "cell_type": "markdown",
   "metadata": {},
   "source": [
    "### Chapter 4: List"
   ]
  },
  {
   "cell_type": "markdown",
   "metadata": {},
   "source": [
    "#### Comma Code | Page 195"
   ]
  },
  {
   "cell_type": "code",
   "execution_count": 24,
   "metadata": {},
   "outputs": [
    {
     "data": {
      "text/plain": [
       "'apples, bananas, tofu, and cats'"
      ]
     },
     "execution_count": 24,
     "metadata": {},
     "output_type": "execute_result"
    }
   ],
   "source": [
    "# Input list\n",
    "spam = ['apples', 'bananas', 'tofu', 'cats']\n",
    "\n",
    "def comma_code(items):\n",
    "    \"\"\" Separated all items by comma and space \"\"\"\n",
    "\n",
    "    # Max length of the list\n",
    "    max_len_item = len(items)\n",
    "\n",
    "    # Transformed Items storage\n",
    "    trns_item = ''\n",
    "    \n",
    "    # Iterate each item with index in the list\n",
    "    for index, item in enumerate(items, start=1):\n",
    "        if index == max_len_item:\n",
    "            # Last item of the list\n",
    "            trns_item += f\", and {item}\"\n",
    "        elif index == 1:\n",
    "            # 1st item of the list\n",
    "            trns_item += item\n",
    "        else:\n",
    "            # Other Items of the list\n",
    "            trns_item += f\", {item}\"\n",
    "\n",
    "    # Output\n",
    "    return trns_item\n",
    "\n",
    "# Functio call\n",
    "comma_code(spam)\n",
    "\n"
   ]
  },
  {
   "cell_type": "markdown",
   "metadata": {},
   "source": [
    "#### Character Picture Grid"
   ]
  },
  {
   "cell_type": "code",
   "execution_count": 25,
   "metadata": {},
   "outputs": [
    {
     "name": "stdout",
     "output_type": "stream",
     "text": [
      ". . O O . O O . . \n",
      ". O O O O O O O . \n",
      ". O O O O O O O . \n",
      ". . O O O O O . . \n",
      ". . . O O O . . . \n",
      ". . . . O . . . . \n"
     ]
    }
   ],
   "source": [
    "# Grid value\n",
    "grid = [['.', '.', '.', '.', '.', '.'],\n",
    "        ['.', 'O', 'O', '.', '.', '.'],\n",
    "        ['O', 'O', 'O', 'O', '.', '.'],\n",
    "        ['O', 'O', 'O', 'O', 'O', '.'],\n",
    "        ['.', 'O', 'O', 'O', 'O', 'O'],\n",
    "        ['O', 'O', 'O', 'O', 'O', '.'],\n",
    "        ['O', 'O', 'O', 'O', '.', '.'],\n",
    "        ['.', 'O', 'O', '.', '.', '.'],\n",
    "        ['.', '.', '.', '.', '.', '.']]\n",
    "\n",
    "# Iterate length of each item in the grid\n",
    "for index in range(len(grid[0])):\n",
    "    # Iterate over each row in the grid\n",
    "    for g in grid:\n",
    "        # Show the picture\n",
    "        print(g[index], end=' ')\n",
    "    print()  # Add new linne\n",
    "\n"
   ]
  },
  {
   "cell_type": "markdown",
   "metadata": {},
   "source": [
    "### Chapter 5:  Dictionaries and Structuring Data"
   ]
  },
  {
   "cell_type": "markdown",
   "metadata": {},
   "source": [
    "#### Fantasy Game Inventory | Page 222"
   ]
  },
  {
   "cell_type": "code",
   "execution_count": 26,
   "metadata": {},
   "outputs": [
    {
     "name": "stdout",
     "output_type": "stream",
     "text": [
      "Inventory: \n",
      "1 Rope\n",
      "6 Torch\n",
      "42 Gold Coin\n",
      "1 Dagger\n",
      "12 Arrow\n"
     ]
    },
    {
     "data": {
      "text/plain": [
       "'Total number of items: 62'"
      ]
     },
     "execution_count": 26,
     "metadata": {},
     "output_type": "execute_result"
    }
   ],
   "source": [
    "def displayInventory(inventory):\n",
    "    \"\"\" Display the Items in the Inventory \"\"\"\n",
    "\n",
    "    # Storage for quantity of the items\n",
    "    total_num_items = 0\n",
    "\n",
    "    print(\"Inventory: \")  # Inventory message\n",
    "\n",
    "    # Iterate each key and values in the inventory\n",
    "    for key, value in inventory.items():\n",
    "        # Show the key and values in the inventory\n",
    "        print(f\"{value} {key.title()}\")\n",
    "\n",
    "        # Sum the quantity of all the items \n",
    "        total_num_items += value\n",
    "    \n",
    "    # Show the total number of items in the Inventory\n",
    "    return f\"Total number of items: {total_num_items}\"\n",
    "\n",
    "# Input\n",
    "player_inventory = {'rope': 1, 'torch': 6, 'gold coin': 42, 'dagger': 1, 'arrow': 12}\n",
    "\n",
    "# Function call\n",
    "displayInventory(player_inventory)\n"
   ]
  },
  {
   "cell_type": "markdown",
   "metadata": {},
   "source": [
    "#### List to Dictionary Function for Fantasy Game Inventory | Page 223\n"
   ]
  },
  {
   "cell_type": "code",
   "execution_count": 27,
   "metadata": {},
   "outputs": [
    {
     "name": "stdout",
     "output_type": "stream",
     "text": [
      "Inventory: \n",
      "45 Gold Coin\n",
      "1 Rope\n",
      "1 Dagger\n",
      "1 Ruby\n"
     ]
    },
    {
     "data": {
      "text/plain": [
       "'Total number of items: 48'"
      ]
     },
     "execution_count": 27,
     "metadata": {},
     "output_type": "execute_result"
    }
   ],
   "source": [
    "def addToInventory(inventory, addedItems):\n",
    "    \"\"\" Adding List of Items in the Existing Inventory(Dictionary) \"\"\"\n",
    "    # Iterate all new items\n",
    "    for item in addedItems:\n",
    "        # Create new record for new item\n",
    "        inventory.setdefault(item, 0)\n",
    "\n",
    "        # Add quantity of item\n",
    "        inventory[item] += 1\n",
    "    \n",
    "    # Return the inventory after adding new items\n",
    "    return inventory\n",
    "\n",
    "# Testing the function with the given inventory and dragonLoot\n",
    "inv = {'gold coin': 42, 'rope': 1}\n",
    "dragonLoot = ['gold coin', 'dagger', 'gold coin', 'gold coin', 'ruby']\n",
    "inv = addToInventory(inv, dragonLoot)\n",
    "displayInventory(inv)\n"
   ]
  },
  {
   "cell_type": "markdown",
   "metadata": {},
   "source": [
    "### Chapter 6: Manipulating Strings"
   ]
  },
  {
   "cell_type": "markdown",
   "metadata": {},
   "source": [
    "#### Adding Bullets to Wiki Markup | bulletPointAdder.py | Page 248"
   ]
  },
  {
   "cell_type": "code",
   "execution_count": 2,
   "metadata": {},
   "outputs": [
    {
     "data": {
      "text/plain": [
       "'* * 3/F Bonifacio Tech. Center, 31st St., cor. 2nd Ave., Crescent West Park, Bonifacio Global City, Taguig City'"
      ]
     },
     "execution_count": 2,
     "metadata": {},
     "output_type": "execute_result"
    }
   ],
   "source": [
    "\n",
    "# Step 1: Copy and Paste from the Clipboard\n",
    "#! python3\n",
    "# bulletPointAdder.py - Adds Wikipedia bullet points to the start\n",
    "# of each line of text on the clipboard.\n",
    "# 'Lists of animals\\nLists of aquarium life\\nLists of biologists by author abbreviation\\nLists of cultivars' \n",
    "\n",
    "\n",
    "import pyperclip\n",
    "text = pyperclip.paste()\n",
    " \n",
    "# Step 2: Separate the Lines of Text and Add the Star\n",
    "# Separate lines and add stars.\n",
    "lines = text.split('\\n')\n",
    "for i in range(len(lines)):    # loop through all indexes in the \"lines\" list\n",
    "    lines[i] = '* ' + lines[i] # add star to each string in \"lines\" list\n",
    "\n",
    "# Step 3: Join the Modified Lines\n",
    "text = '\\n'.join(lines)\n",
    "pyperclip.copy(text)\n",
    "text"
   ]
  },
  {
   "cell_type": "markdown",
   "metadata": {},
   "source": [
    "#### Table Printer | tablePrinter.py | Page 255"
   ]
  },
  {
   "cell_type": "code",
   "execution_count": 29,
   "metadata": {},
   "outputs": [
    {
     "name": "stdout",
     "output_type": "stream",
     "text": [
      "apples Alice dogs\n",
      "\toranges Bob cats\n",
      "cherries Carol moose\n",
      "\tbanana David goose\n"
     ]
    }
   ],
   "source": [
    "def printTable(lst_string):\n",
    "    \"\"\" Displays It In A Well Organized Table With Each Column Right Justified\"\"\"\n",
    "    pass\n",
    "\n",
    "tableData = [['apples', 'oranges', 'cherries', 'banana'],\n",
    "             ['Alice', 'Bob', 'Carol', 'David'],\n",
    "             ['dogs', 'cats', 'moose', 'goose']]\n",
    "\n",
    "for index in range(len(tableData[0])):\n",
    "    data = \"\"\n",
    "    for row in tableData:\n",
    "        data += f\"{row[index]} \"\n",
    "    if (index + 1) % 2 == 0:\n",
    "        print(f\"\\t{' '.join(data.split())}\")\n",
    "    else:\n",
    "        print(\" \".join(data.split()))\n",
    "\n",
    "\n",
    "# print(tableData[0][0])\n",
    "# print(tableData[1][0])\n",
    "# print(tableData[2][0])"
   ]
  },
  {
   "cell_type": "markdown",
   "metadata": {},
   "source": [
    "### Chapter 7: Regular Expression"
   ]
  },
  {
   "cell_type": "markdown",
   "metadata": {},
   "source": [
    "#### Strong Password Detection | Page 298"
   ]
  },
  {
   "cell_type": "code",
   "execution_count": 4,
   "metadata": {},
   "outputs": [
    {
     "name": "stdout",
     "output_type": "stream",
     "text": [
      "Valid Password: fI90BN3l\n",
      "Valid Password: iKY8anS6\n",
      "Password should have uppercase and lowercase characters: s40x1zjo\n",
      "Password should have least one digit: INFsdpuzo\n",
      "Password should have uppercase and lowercase characters: audience\n"
     ]
    }
   ],
   "source": [
    "import re\n",
    "\n",
    "passwords = \"\"\" \n",
    "fI90BN3l\n",
    "iKY8anS6\n",
    "^0&DhFuC*^\n",
    "3u5bXg\n",
    "s40x1zjo\n",
    "INFsdpuzo\n",
    "audience\n",
    "(785)873-6894x874\n",
    "\"\"\".strip()\n",
    "\n",
    "for p in passwords.split('\\n'):\n",
    "    pass_regex = re.compile(r'^[A-Za-z0-9]{8,}')\n",
    "    matched_word = pass_regex.findall(p)\n",
    "\n",
    "    if matched_word:\n",
    "        current_pass = matched_word[0]\n",
    "        # Check upper case or lower case\n",
    "        if not current_pass.islower() and not current_pass.isupper():\n",
    "            \n",
    "            num_regex = re.compile(r'\\d?')\n",
    "            have_num =''.join(num_regex.findall(current_pass))\n",
    "            if have_num:\n",
    "                print(f\"Valid Password: {current_pass}\")\n",
    "            else:\n",
    "                print(f\"Password should have least one digit: {current_pass}\")\n",
    "        else:\n",
    "            print(f\"Password should have uppercase and lowercase characters: {current_pass}\")\n"
   ]
  },
  {
   "cell_type": "markdown",
   "metadata": {},
   "source": [
    "#### Regex Version of strip() | Page 299"
   ]
  },
  {
   "cell_type": "code",
   "execution_count": 26,
   "metadata": {},
   "outputs": [
    {
     "name": "stdout",
     "output_type": "stream",
     "text": [
      "old Value: forward  , length: 9\n",
      "strip_regex: forward, length:7\n",
      "\n",
      "old Value:   century, length: 9\n",
      "strip_regex: century, length:7\n",
      "\n",
      "old Value: tonight , length: 8\n",
      "strip_regex: tonight, length:7\n",
      "\n",
      "old Value: mea\n",
      "sure , length: 9\n",
      "strip_regex: measure, length:7\n",
      "\n",
      "old Value: se\tat, length: 5\n",
      "strip_regex: seat, length:4\n",
      "\n",
      "old Value: f\tew, length: 4\n",
      "strip_regex: few, length:3\n",
      "\n"
     ]
    }
   ],
   "source": [
    "import re\n",
    "data = ['forward  ', '  century', 'tonight ', 'mea\\nsure ', 'se\\tat', 'f\\tew']\n",
    "param = ''\n",
    "for d in data:\n",
    "    print(f\"old Value: {d}, length: {len(d)}\")\n",
    "    if param:\n",
    "        # Remove specifc character\n",
    "        strip_regex = re.sub(param, \"\", d)\n",
    "    else:\n",
    "        # Remove whitespaces\n",
    "        strip_regex = re.sub(r'\\s+', \"\", d)\n",
    "\n",
    "    print(f\"strip_regex: {strip_regex}, length:{len(strip_regex)}\\n\")\n",
    "\n",
    "        \n",
    "    "
   ]
  },
  {
   "cell_type": "code",
   "execution_count": 19,
   "metadata": {},
   "outputs": [
    {
     "name": "stdout",
     "output_type": "stream",
     "text": [
      "abcNUMBERxyz\n"
     ]
    }
   ],
   "source": [
    "result = re.sub(r'\\d+', 'NUMBER', 'abc123xyz')\n",
    "print(result)  # Output: abcNUMBERxyz"
   ]
  },
  {
   "cell_type": "code",
   "execution_count": 73,
   "metadata": {},
   "outputs": [
    {
     "name": "stdout",
     "output_type": "stream",
     "text": [
      "z56ue4RM#7\n",
      "['measure', 'seat', 'few']\n",
      "885.709.7802x434\n"
     ]
    }
   ],
   "source": [
    "from faker import Faker\n",
    "f = Faker()\n",
    "\n",
    "print(f.password())\n",
    "print(f.words())\n",
    "print(f.phone_number())"
   ]
  },
  {
   "cell_type": "markdown",
   "metadata": {},
   "source": [
    "## Example Programs"
   ]
  },
  {
   "cell_type": "markdown",
   "metadata": {},
   "source": [
    "### Chapter 2"
   ]
  },
  {
   "cell_type": "markdown",
   "metadata": {},
   "source": [
    "#### Guess the Number | guessTheNumber.py | Page 144"
   ]
  },
  {
   "cell_type": "code",
   "execution_count": 36,
   "metadata": {},
   "outputs": [
    {
     "name": "stdout",
     "output_type": "stream",
     "text": [
      "I am thinking of a number between 1 and 20: \n",
      "Your guess is too low.\n",
      "1\n",
      "Your guess is too low.\n",
      "2\n",
      "Your guess is too low.\n",
      "3\n",
      "Your guess is too low.\n",
      "4\n",
      "Your guess is too low.\n",
      "4\n",
      "Your guess is too low.\n",
      "4\n",
      "Your guess is too low.\n",
      "4\n"
     ]
    },
    {
     "ename": "ValueError",
     "evalue": "invalid literal for int() with base 10: 'Escape'",
     "output_type": "error",
     "traceback": [
      "\u001b[1;31m---------------------------------------------------------------------------\u001b[0m",
      "\u001b[1;31mValueError\u001b[0m                                Traceback (most recent call last)",
      "Cell \u001b[1;32mIn[36], line 8\u001b[0m\n\u001b[0;32m      4\u001b[0m \u001b[38;5;28mprint\u001b[39m(\u001b[38;5;124m'\u001b[39m\u001b[38;5;124mI am thinking of a number between 1 and 20: \u001b[39m\u001b[38;5;124m'\u001b[39m)\n\u001b[0;32m      6\u001b[0m \u001b[38;5;28;01mwhile\u001b[39;00m \u001b[38;5;28;01mTrue\u001b[39;00m:\n\u001b[1;32m----> 8\u001b[0m     guess \u001b[38;5;241m=\u001b[39m \u001b[38;5;28;43mint\u001b[39;49m\u001b[43m(\u001b[49m\u001b[38;5;28;43minput\u001b[39;49m\u001b[43m(\u001b[49m\u001b[38;5;124;43m'\u001b[39;49m\u001b[38;5;124;43mTake a Guess: \u001b[39;49m\u001b[38;5;124;43m'\u001b[39;49m\u001b[43m)\u001b[49m\u001b[43m)\u001b[49m\n\u001b[0;32m     10\u001b[0m     \u001b[38;5;28;01mif\u001b[39;00m guess \u001b[38;5;241m==\u001b[39m rand_num:\n\u001b[0;32m     11\u001b[0m         \u001b[38;5;28mprint\u001b[39m(\u001b[38;5;124mf\u001b[39m\u001b[38;5;124m\"\u001b[39m\u001b[38;5;124mGood job! You guessed my number in \u001b[39m\u001b[38;5;132;01m{\u001b[39;00mnum_guess\u001b[38;5;132;01m}\u001b[39;00m\u001b[38;5;124m guesses!\u001b[39m\u001b[38;5;124m\"\u001b[39m)\n",
      "\u001b[1;31mValueError\u001b[0m: invalid literal for int() with base 10: 'Escape'"
     ]
    }
   ],
   "source": [
    "import random\n",
    "rand_num = random.randint(1,20)  # Generate Random number from 1 to 20\n",
    "num_guess = 0  # Number of Guess\n",
    "print('I am thinking of a number between 1 and 20: ')\n",
    "\n",
    "while True:\n",
    "    \n",
    "    guess = int(input('Take a Guess: '))\n",
    "    \n",
    "    if guess == rand_num:\n",
    "        print(f\"Good job! You guessed my number in {num_guess} guesses!\")\n",
    "        break\n",
    "    elif guess > rand_num:\n",
    "        print(\"Your guess is too high.\")\n",
    "    elif guess < rand_num:\n",
    "        print(\"Your guess is too low.\")\n",
    "    print(guess)\n",
    "    num_guess += 1\n",
    "    \n",
    "    "
   ]
  },
  {
   "cell_type": "markdown",
   "metadata": {},
   "source": [
    "### Chapter 4"
   ]
  },
  {
   "cell_type": "markdown",
   "metadata": {},
   "source": [
    "#### Magic 8 Ball with a List | magic8Ball2.py | Page 177"
   ]
  },
  {
   "cell_type": "code",
   "execution_count": 10,
   "metadata": {},
   "outputs": [
    {
     "name": "stdout",
     "output_type": "stream",
     "text": [
      "Outlook not so good\n"
     ]
    }
   ],
   "source": [
    "import random \n",
    "\n",
    "# Magic 8 Ball Inputs\n",
    "messages = [\n",
    "    'It is certain',\n",
    "    'It is decidedly so',\n",
    "    'Yes definitely',\n",
    "    'Reply hazy try again',\n",
    "    'Ask again later',\n",
    "    'Concentrate and ask again',\n",
    "    'My reply is no',\n",
    "    'Outlook not so good',\n",
    "    'Very doubtful']\n",
    "\n",
    "# Magic 8 Ball random outputs\n",
    "print(messages[random.randint(0, len(messages) - 1)])"
   ]
  },
  {
   "cell_type": "markdown",
   "metadata": {},
   "source": [
    "### Chapter 5"
   ]
  },
  {
   "cell_type": "markdown",
   "metadata": {},
   "source": [
    "#### The setdefault() Method | characterCount.py | Page 205"
   ]
  },
  {
   "cell_type": "code",
   "execution_count": 33,
   "metadata": {},
   "outputs": [
    {
     "name": "stdout",
     "output_type": "stream",
     "text": [
      "{'I': 1, 't': 6, ' ': 13, 'w': 2, 'a': 4, 's': 3, 'b': 1, 'r': 5, 'i': 6, 'g': 2, 'h': 3, 'c': 3, 'o': 2, 'l': 3, 'd': 3, 'y': 1, 'n': 4, 'A': 1, 'p': 1, ',': 1, 'e': 5, 'k': 2, '.': 1}\n"
     ]
    }
   ],
   "source": [
    "message = 'It was a bright cold day in April, and the clocks were striking thirteen.'\n",
    "count = {}\n",
    " \n",
    "for character in message:\n",
    "    # Create a key to the new character in the 'count' list\n",
    "    count.setdefault(character, 0)\n",
    "\n",
    "    # Plus 1 to the existing characterers\n",
    "    count[character] = count[character] + 1\n",
    "\n",
    "# Show Total count per each character\n",
    "print(count)\n"
   ]
  },
  {
   "cell_type": "markdown",
   "metadata": {},
   "source": [
    "#### Pretty Printing | prettyCharacterCount.py | Page 207"
   ]
  },
  {
   "cell_type": "code",
   "execution_count": 34,
   "metadata": {},
   "outputs": [
    {
     "name": "stdout",
     "output_type": "stream",
     "text": [
      "{' ': 13,\n",
      " ',': 1,\n",
      " '.': 1,\n",
      " 'A': 1,\n",
      " 'I': 1,\n",
      " 'a': 4,\n",
      " 'b': 1,\n",
      " 'c': 3,\n",
      " 'd': 3,\n",
      " 'e': 5,\n",
      " 'g': 2,\n",
      " 'h': 3,\n",
      " 'i': 6,\n",
      " 'k': 2,\n",
      " 'l': 3,\n",
      " 'n': 4,\n",
      " 'o': 2,\n",
      " 'p': 1,\n",
      " 'r': 5,\n",
      " 's': 3,\n",
      " 't': 6,\n",
      " 'w': 2,\n",
      " 'y': 1}\n"
     ]
    }
   ],
   "source": [
    "# Import Prettyy Printing library and use pprint method\n",
    "from pprint import pprint\n",
    "\n",
    "message = 'It was a bright cold day in April, and the clocks were striking thirteen.'\n",
    "count = {}\n",
    " \n",
    "for character in message:\n",
    "    # Create a key to the new character in the 'count' list\n",
    "    count.setdefault(character, 0)\n",
    "\n",
    "    # Plus 1 to the existing characterers\n",
    "    count[character] = count[character] + 1\n",
    "\n",
    "# Show Total count per each character\n",
    "pprint(count)"
   ]
  },
  {
   "cell_type": "markdown",
   "metadata": {},
   "source": [
    "## Projects"
   ]
  },
  {
   "cell_type": "markdown",
   "metadata": {},
   "source": [
    "### Chapter 6"
   ]
  },
  {
   "cell_type": "markdown",
   "metadata": {},
   "source": [
    "#### Password Locker | pw.py |  Page 243"
   ]
  },
  {
   "cell_type": "code",
   "execution_count": 3,
   "metadata": {},
   "outputs": [
    {
     "name": "stdout",
     "output_type": "stream",
     "text": [
      "There is no account named --f=c:\\Users\\User1\\AppData\\Roaming\\jupyter\\runtime\\kernel-v2-2480egCxb1GeXGhv.json\n"
     ]
    }
   ],
   "source": [
    "#! python3\n",
    "# pw.py - An insecure password locker program.\n",
    " \n",
    "# Step 01: Program Design and Data Structures\n",
    "PASSWORDS = {'email': 'F7minlBDDuvMJuxESSKHFhTxFtjVB6',\n",
    "             'blog': 'VmALvQyKAxiVH5G8v01if1MLZF3sdt',\n",
    "             'luggage': '12345'}\n",
    "\n",
    "# Step 2: Handle Command Line Arguments\n",
    "import sys, pyperclip\n",
    "if len(sys.argv) < 2:\n",
    "    print('Usage: python pw.py [account] - copy account password')\n",
    "    sys.exit()\n",
    "account = sys.argv[1]      # first command line arg is the account name\n",
    "\n",
    "# Step 3: Copy the Right Password\n",
    "if account in PASSWORDS:\n",
    "    pyperclip.copy(PASSWORDS[account])\n",
    "    print('Password for ' + account + ' copied to clipboard.')\n",
    "else:\n",
    "    print('There is no account named ' + account)"
   ]
  },
  {
   "cell_type": "markdown",
   "metadata": {},
   "source": [
    "### Chapter 7: Pattern Matching with Regular Expressions"
   ]
  },
  {
   "cell_type": "markdown",
   "metadata": {},
   "source": [
    "##### Phone Number and Email Address Extractor | phoneAndEmail.py | Page 287"
   ]
  },
  {
   "cell_type": "code",
   "execution_count": null,
   "metadata": {},
   "outputs": [
    {
     "ename": "ModuleNotFoundError",
     "evalue": "No module named 'pyperclip'",
     "output_type": "error",
     "traceback": [
      "\u001b[1;31m---------------------------------------------------------------------------\u001b[0m\n",
      "\u001b[1;31mModuleNotFoundError\u001b[0m                       Traceback (most recent call last)\n",
      "Cell \u001b[1;32mIn[4], line 1\u001b[0m\n",
      "\u001b[1;32m----> 1\u001b[0m \u001b[38;5;28;01mimport\u001b[39;00m \u001b[38;5;21;01mpyperclip\u001b[39;00m\u001b[38;5;241m,\u001b[39m \u001b[38;5;21;01mre\u001b[39;00m\n",
      "\u001b[0;32m      4\u001b[0m \u001b[38;5;66;03m# Step 1: Create a Regex for Phone Numbers\u001b[39;00m\n",
      "\u001b[0;32m      5\u001b[0m phones \u001b[38;5;241m=\u001b[39m \u001b[38;5;124m\"\"\"\u001b[39m\n",
      "\u001b[0;32m      6\u001b[0m \u001b[38;5;124m+1-492-561-1150x4311\u001b[39m\n",
      "\u001b[0;32m      7\u001b[0m \u001b[38;5;124m612.846.9354x014\u001b[39m\n",
      "\u001b[1;32m   (...)\u001b[0m\n",
      "\u001b[0;32m     11\u001b[0m \u001b[38;5;124m(357)720-3502x6649\u001b[39m\n",
      "\u001b[0;32m     12\u001b[0m \u001b[38;5;124m\"\"\"\u001b[39m\n",
      "\n",
      "\u001b[1;31mModuleNotFoundError\u001b[0m: No module named 'pyperclip'"
     ]
    }
   ],
   "source": [
    "\n",
    "import pyperclip, re\n",
    "\n",
    "\n",
    "# Step 1: Create a Regex for Phone Numbers\n",
    "phones = \"\"\"\n",
    "+1-492-561-1150x4311\n",
    "612.846.9354x014\n",
    "363.889.0454x95947\n",
    "(459)516-3900x786\n",
    "001-445-972-7319\n",
    "(357)720-3502x6649\n",
    "\"\"\"\n",
    "# phoneRegex = re.compile(r'''(\n",
    "#     (\\+\\d{1,3}|\\d{3}|\\(\\d{3}\\))?  # Area Code\n",
    "#     (\\s|\\.|-)?                       # Seperator\n",
    "#     (\\d{3})                            # first 3 digits\n",
    "#     (\\s|\\.|-)?                       # Seperator\n",
    "#     (\\d{4})                          # last 4 digits\n",
    "#     (\\s*(ext|x|ext.)\\s*(\\d{2,5}))?     # extension\n",
    "#     )''', re.VERBOSE)\n",
    "\n",
    "phoneRegex = re.compile(r'''(\n",
    "    (\\+\\d{1,3}|\\d{3}|\\(\\d{3}\\))?  # Area Code\n",
    "    (\\s|\\.|-)?                         # separator\n",
    "    (\\d{3})                           # first 3 digits\n",
    "    (\\s|-|\\.)?                         # separator\n",
    "    (\\d{4})                           # last 4 digits\n",
    "    (\\s*(ext|x|ext.)\\s*(\\d{2,5}))?    # extension\n",
    "    )''', re.VERBOSE)\n",
    "# Step 2: Create a Regex for Email Addresses\n",
    "\n",
    "\n",
    "\n",
    "\n",
    "emails_data = \"\"\"\n",
    "jenn-ifer41@example.net\n",
    "reb_ecca21@example.org\n",
    "tammy53@example.net\n",
    "lcline@example.org\n",
    "eliz%abeth76@example.org\n",
    "amanda00@example.org\n",
    "michaelwilliams@example.com\n",
    "michaelleonard@example.org\n",
    "rthompson_@example.com\n",
    "yhamilton@example.net\n",
    "\"\"\"\n",
    " # Create email regex.\n",
    "# emailRegex = re.compile(r'''(\n",
    "#     [a-zA-Z0-9._%+-]+      # username\n",
    "#     @                      # @ symbol\n",
    "#     [a-zA-Z0-9.-]+         # domain name\n",
    "#     (\\.[a-zA-Z]{2,4})      # dot-something\n",
    "#     )''', re.VERBOSE)\n",
    "\n",
    "emailRegex = re.compile(r\"\"\"\n",
    "    (\\w+[._%+-]?\\w+  # Username\n",
    "    @                # @ Symbol\n",
    "    \\w+[.-]          # Domain Name\n",
    "    \\w{2,4})         # Dot-something\n",
    "\"\"\", re.VERBOSE)\n",
    "\n",
    "\n",
    "\n",
    "\n",
    "# Step 3: Find All Matches in the Clipboard Text\n",
    "# text = \"\"\" \n",
    "# Copied to clipboard:\n",
    "# 800-420-7240\n",
    "# 415-863-9900\n",
    "# 415-863-9950\n",
    "# info@nostarch.com\n",
    "# media@nostarch.com\n",
    "# academic@nostarch.com\n",
    "# help@nostarch.com\n",
    "# \"\"\"\n",
    "#  Find matches in clipboard text.\n",
    "text = str(pyperclip.paste())\n",
    "matches = []\n",
    "\n",
    "# Step 4: Join the Matches into a String for the Clipboard\n",
    "for groups in phoneRegex.findall(text):\n",
    "    phoneNum = '-'.join([groups[1], groups[3], groups[5]])\n",
    "    if groups[8] != '':\n",
    "        phoneNum += ' x' + groups[8]\n",
    "    matches.append(phoneNum)\n",
    " \n",
    "for groups in emailRegex.findall(text):\n",
    "       matches.append(groups)\n",
    "\n",
    "# Copy results to the clipboard.\n",
    "if len(matches) > 0:\n",
    "    pyperclip.copy('\\n'.join(matches))\n",
    "    print('Copied to clipboard:')\n",
    "    print('\\n'.join(matches))\n",
    "else:\n",
    "    print('No phone numbers or email addresses found.')\n",
    "\n",
    "\n",
    "\n"
   ]
  },
  {
   "cell_type": "markdown",
   "metadata": {},
   "source": [
    "##### Ideas for Similar Programs | Page 293"
   ]
  },
  {
   "cell_type": "code",
   "execution_count": null,
   "metadata": {},
   "outputs": [
    {
     "data": {
      "text/plain": [
       "['Mes']"
      ]
     },
     "metadata": {},
     "output_type": "display_data"
    }
   ],
   "source": [
    "import re\n",
    "\n",
    "# Find website URLs that begin with http:// or https://.\n",
    "urls = '''\n",
    "http://blair.com/\n",
    "http://stewart-price.com/\n",
    "www.wilson.com\n",
    "https://franklin.org/\n",
    "www.nelson.org/\n",
    "'''\n",
    "# urlRegex = re.compile(r'http://.+|https://.+')\n",
    "# urlRegex.findall(urls)\n",
    "\n",
    "# Clean up dates in different date formats (such as 3/14/2015, 03-14-2015, and 2015/3/14) by replacing them with dates in a single, standard format.\n",
    "from datetime import datetime as dt\n",
    "import pandas as pd\n",
    "\n",
    "dates = '''\n",
    "08/25/2023\n",
    "08-25-2023\n",
    "2023/08/25\n",
    "03/12/2023\n",
    "03-12-2023\n",
    "2023/03/12\n",
    "07/03/2024\n",
    "07-03-2024\n",
    "2024/07/03\n",
    "09/26/2023\n",
    "09-26-2023\n",
    "2023/09/26\n",
    "04/14/2024\n",
    "'''\n",
    "dataRegex = re.compile(r'\\d{2}[/-]\\d{2}[/-]\\d{4}|\\\\d{4}/\\d{2}/\\d{2}')\n",
    "# print([pd.to_datetime(date) for date in dataRegex.findall(dates)])\n",
    "\n",
    "\n",
    "\n",
    "# Remove sensitive information such as Social Security or credit card numbers.\n",
    "sensitive_info = \"Hi [Recipient Name], please find the following dummy information for your reference: Social Security Number: 688-47-8689, Credit Card Number: 6011-2174-4406-9896, Expiration Date: 01/30, CVV: 442. Please let me know if you have any questions or require further assistance. Best regards, [Your Name].\"\n",
    "scrapRegex = re.compile(r'\\d+')\n",
    "# scrapRegex.sub('xxx', sensitive_info)\n",
    "\n",
    "\n",
    "typos = 'Mes   sage test although although put se  nse indu  stry half!!! Lay relate gue   ss if ex         pert.'\n",
    "# typoRegex = re.compile(r'\\s{2,}|(\\w+\\1\\b)')\n",
    "typoRegex = re.compile(r'(\\w+)')\n",
    "# typoRegex.sub('', typos)\n",
    "typoRegex.findall(typos)\n"
   ]
  },
  {
   "cell_type": "code",
   "execution_count": null,
   "metadata": {},
   "outputs": [
    {
     "name": "stdout",
     "output_type": "stream",
     "text": [
      "['l', 'l']\n"
     ]
    }
   ],
   "source": [
    "import re\n",
    "\n",
    "# Example string\n",
    "text = \"apple banana Applesauce\"\n",
    "\n",
    "# Search for 'apple' at word boundaries\n",
    "matches = re.findall(r'(?<=pp).', text, re.IGNORECASE)\n",
    "\n",
    "print(matches)\n"
   ]
  },
  {
   "cell_type": "markdown",
   "metadata": {},
   "source": [
    "#### Scatch"
   ]
  },
  {
   "cell_type": "code",
   "execution_count": null,
   "metadata": {},
   "outputs": [
    {
     "name": "stdout",
     "output_type": "stream",
     "text": [
      "{'name': 'Pooka', 'age': 5, 'color': 'black'}\n",
      "{'color': 'black', 'age': 5, 'name': 'Pooka'}\n"
     ]
    }
   ],
   "source": [
    "spam = {'name': 'Pooka', 'age': 5}\n",
    "spam.setdefault('color', 'black')\n",
    "\n",
    "print(spam)\n",
    "spam = {'color': 'black', 'age': 5, 'name': 'Pooka'}\n",
    "spam.setdefault('color', 'pink')\n",
    "print(spam)\n",
    "# spam.setdefault('color', 'white')\n",
    "\n",
    "# spam\n",
    "# {'color': 'black', 'age': 5, 'name': 'Pooka'}"
   ]
  },
  {
   "cell_type": "code",
   "execution_count": null,
   "metadata": {},
   "outputs": [
    {
     "data": {
      "text/plain": [
       "['+2']"
      ]
     },
     "metadata": {},
     "output_type": "display_data"
    }
   ],
   "source": [
    "text = \"Hello, World! Welcome to Python 101. @#$%^&*()+2\"\n",
    "\n",
    "# Find all non-word (special) characters\n",
    "phone = r'(\\+\\d{1,3})'\n",
    "phoneNumber = re.compile(phone, re.IGNORECASE | re.VERBOSE)\n",
    "# special_chars = re.findall(phone, text)\n",
    "phoneNumber.findall(text)\n",
    "# print(special_chars)\n",
    "\n"
   ]
  },
  {
   "cell_type": "code",
   "execution_count": null,
   "metadata": {},
   "outputs": [
    {
     "name": "stdout",
     "output_type": "stream",
     "text": [
      "Message test although put sense industry half. Lay relate guess if expert.\n"
     ]
    }
   ],
   "source": [
    "from faker import Faker \n",
    "\n",
    "fake = Faker()\n",
    "\n",
    "for _ in range(1):\n",
    "    print(fake.paragraph(nb_sentences=3))"
   ]
  },
  {
   "cell_type": "code",
   "execution_count": null,
   "metadata": {},
   "outputs": [
    {
     "data": {
      "text/plain": [
       "'Alice'"
      ]
     },
     "metadata": {},
     "output_type": "display_data"
    }
   ],
   "source": [
    "import re\n",
    "\n",
    "# phoneNumRegex = re.compile(r'(\\d{3})-(\\d{3}-\\d{3})')\n",
    "# mo = phoneNumRegex.search('Cell: 415-555-9999 Work: 212-555-0000')\n",
    "# print(f'[GROUP] Phone number found: {mo.group()}')\n",
    "# phoneNumRegex.findall('Cell: 415-555-9999 Work: 212-555-0000')\n",
    "\n",
    "agentNamesRegex = re.compile(r'Agent (\\w+)')\n",
    "findAgent = agentNamesRegex.search(\"Agent Alice told Agent Carol that Agent Eve knew Agent Bob was a double agent\")\n",
    "# agentNamesRegex.sub(r'\\1***\\2','Agent Alice told Agent Carol that Agent Eve knew Agent Bob was a double agent.')\n",
    "# agentNamesRegex.findall('Agent Alice told Agent Carol that Agent Eve knew Agent Bob was a double agent.')\n",
    "\n",
    "agent_name = findAgent.group(1)\n",
    "name_dict = {\n",
    "    # \"Alice\": \"Sophie\",\n",
    "    \"Bob\": \"Michael\",\n",
    "    \"Eve\": \"Grace\",\n",
    "    \"Carol\": \"Emma\"\n",
    "}\n",
    "\n",
    "name_dict.get(agent_name, agent_name)\n"
   ]
  },
  {
   "cell_type": "code",
   "execution_count": null,
   "metadata": {},
   "outputs": [
    {
     "name": "stdout",
     "output_type": "stream",
     "text": [
      "Agent Sophie told Agent Carol that Agent Grace knew Agent Michael was a double agent.\n"
     ]
    }
   ],
   "source": [
    "import re\n",
    "\n",
    "# Dictionary mapping old names to new names\n",
    "name_dict = {\n",
    "    \"Alice\": \"Sophie\",\n",
    "    \"Bob\": \"Michael\",\n",
    "    \"Eve\": \"Grace\",\n",
    "    # \"Carol\": \"Emma\"\n",
    "}\n",
    "\n",
    "# Input string with agent names\n",
    "input_string = 'Agent Alice told Agent Carol that Agent Eve knew Agent Bob was a double agent.'\n",
    "\n",
    "# Regular expression pattern to match the agent names\n",
    "pattern = r'Agent (\\w+)'  # (\\w+) matches any name after \"Agent\"\n",
    "\n",
    "# Custom function for substitution\n",
    "def replace_name(match):\n",
    "    # Extract the agent's name\n",
    "    agent_name = match.group(1)\n",
    "    # Replace with the corresponding name from the dictionary (if exists)\n",
    "    return f'Agent {name_dict.get(agent_name, agent_name)}'\n",
    "\n",
    "# Use re.sub to replace names in the string\n",
    "output_string = re.sub(pattern, replace_name, input_string)\n",
    "\n",
    "print(output_string)\n"
   ]
  },
  {
   "cell_type": "code",
   "execution_count": null,
   "metadata": {},
   "outputs": [],
   "source": []
  },
  {
   "cell_type": "markdown",
   "metadata": {},
   "source": [
    "# Notes"
   ]
  },
  {
   "cell_type": "markdown",
   "metadata": {},
   "source": []
  }
 ],
 "metadata": {
  "kernelspec": {
   "display_name": "Python 3",
   "language": "python",
   "name": "python3"
  },
  "language_info": {
   "codemirror_mode": {
    "name": "ipython",
    "version": 3
   },
   "file_extension": ".py",
   "mimetype": "text/x-python",
   "name": "python",
   "nbconvert_exporter": "python",
   "pygments_lexer": "ipython3",
   "version": "3.12.1"
  }
 },
 "nbformat": 4,
 "nbformat_minor": 2
}
