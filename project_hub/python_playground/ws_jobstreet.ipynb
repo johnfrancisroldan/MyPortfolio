{
 "cells": [
  {
   "cell_type": "markdown",
   "metadata": {},
   "source": [
    "# Version History\n",
    "\n",
    "| Version | Date       | Author    | Description                  |\n",
    "|---------|------------|-----------|------------------------------|\n",
    "| 1.0.0   | 2024-12-01 | Francis   | Initial notebook creation    |\n",
    "\n"
   ]
  },
  {
   "cell_type": "markdown",
   "metadata": {},
   "source": [
    "# Web Scraping: Jobstreet"
   ]
  },
  {
   "cell_type": "markdown",
   "metadata": {},
   "source": [
    "## Pre-requisite\n",
    "- Download selenium library:\n",
    "  - `%pip install selenium`\n",
    "- [Download Chromedriver](https://sites.google.com/chromium.org/driver/) - is a automation tool that controls Google Chrome\n",
    "  - **Step 01**: Click the [The Chrome for testing availability dashboard](https://googlechromelabs.github.io/chrome-for-testing/)\n",
    "  - **Step 02**: Click Stable under channel\n",
    "  - **Step 03**: Find chromedriver win64 and copy the link and paste it in your tab."
   ]
  },
  {
   "cell_type": "markdown",
   "metadata": {},
   "source": [
    "## Code"
   ]
  },
  {
   "cell_type": "markdown",
   "metadata": {},
   "source": [
    "### Libraries"
   ]
  },
  {
   "cell_type": "code",
   "execution_count": 1,
   "metadata": {},
   "outputs": [],
   "source": [
    "# Libraries for Browser Driver\n",
    "from selenium import webdriver\n",
    "from selenium.webdriver.chrome.service import Service\n",
    "\n",
    "# Interact with HTML Elements(Tags/Attributes)\n",
    "from selenium.webdriver.common.by import By\n",
    "\n",
    "# Able to use Keys in the keyboard\n",
    "from selenium.webdriver.common.keys import Keys\n",
    "\n",
    "# Libraries for waiting the HTML Element to be available\n",
    "from selenium.webdriver.support.ui import WebDriverWait\n",
    "from selenium.webdriver.support import expected_conditions as EC \n",
    "\n",
    "import time"
   ]
  },
  {
   "cell_type": "code",
   "execution_count": 2,
   "metadata": {},
   "outputs": [
    {
     "ename": "NoSuchElementException",
     "evalue": "Message: no such element: Unable to locate element: {\"method\":\"link text\",\"selector\":\"Tech With Tim\"}\n  (Session info: chrome=131.0.6778.205); For documentation on this error, please visit: https://www.selenium.dev/documentation/webdriver/troubleshooting/errors#no-such-element-exception\nStacktrace:\n\tGetHandleVerifier [0x00007FF6CEE16CB5+28821]\n\t(No symbol) [0x00007FF6CED83840]\n\t(No symbol) [0x00007FF6CEC2578A]\n\t(No symbol) [0x00007FF6CEC791BE]\n\t(No symbol) [0x00007FF6CEC794AC]\n\t(No symbol) [0x00007FF6CECC2647]\n\t(No symbol) [0x00007FF6CEC9F33F]\n\t(No symbol) [0x00007FF6CECBF412]\n\t(No symbol) [0x00007FF6CEC9F0A3]\n\t(No symbol) [0x00007FF6CEC6A778]\n\t(No symbol) [0x00007FF6CEC6B8E1]\n\tGetHandleVerifier [0x00007FF6CF14FCAD+3408013]\n\tGetHandleVerifier [0x00007FF6CF16741F+3504127]\n\tGetHandleVerifier [0x00007FF6CF15B5FD+3455453]\n\tGetHandleVerifier [0x00007FF6CEEDBDBB+835995]\n\t(No symbol) [0x00007FF6CED8EB5F]\n\t(No symbol) [0x00007FF6CED8A814]\n\t(No symbol) [0x00007FF6CED8A9AD]\n\t(No symbol) [0x00007FF6CED7A199]\n\tBaseThreadInitThunk [0x00007FFE52C5259D+29]\n\tRtlUserThreadStart [0x00007FFE547AAF38+40]\n",
     "output_type": "error",
     "traceback": [
      "\u001b[1;31m---------------------------------------------------------------------------\u001b[0m",
      "\u001b[1;31mNoSuchElementException\u001b[0m                    Traceback (most recent call last)",
      "Cell \u001b[1;32mIn[2], line 26\u001b[0m\n\u001b[0;32m     24\u001b[0m \u001b[38;5;66;03m# Find 'Tech With Tim' exists inside of anchor/link tag it will access it\u001b[39;00m\n\u001b[0;32m     25\u001b[0m link \u001b[38;5;241m=\u001b[39m driver\u001b[38;5;241m.\u001b[39mfind_element(By\u001b[38;5;241m.\u001b[39mPARTIAL_LINK_TEXT, \u001b[38;5;124m\"\u001b[39m\u001b[38;5;124mTech With Tim\u001b[39m\u001b[38;5;124m\"\u001b[39m)\n\u001b[1;32m---> 26\u001b[0m link \u001b[38;5;241m=\u001b[39m \u001b[43mdriver\u001b[49m\u001b[38;5;241;43m.\u001b[39;49m\u001b[43mfind_element\u001b[49m\u001b[43m(\u001b[49m\u001b[43mBy\u001b[49m\u001b[38;5;241;43m.\u001b[39;49m\u001b[43mLINK_TEXT\u001b[49m\u001b[43m,\u001b[49m\u001b[43m \u001b[49m\u001b[38;5;124;43m\"\u001b[39;49m\u001b[38;5;124;43mTech With Tim\u001b[39;49m\u001b[38;5;124;43m\"\u001b[39;49m\u001b[43m)\u001b[49m\n\u001b[0;32m     27\u001b[0m link\u001b[38;5;241m.\u001b[39mclick()\n\u001b[0;32m     29\u001b[0m time\u001b[38;5;241m.\u001b[39msleep(\u001b[38;5;241m10\u001b[39m)\n",
      "File \u001b[1;32mc:\\Users\\john.francis.roldan\\AppData\\Local\\Programs\\Python\\Python312\\Lib\\site-packages\\selenium\\webdriver\\remote\\webdriver.py:770\u001b[0m, in \u001b[0;36mWebDriver.find_element\u001b[1;34m(self, by, value)\u001b[0m\n\u001b[0;32m    767\u001b[0m         \u001b[38;5;28;01mraise\u001b[39;00m NoSuchElementException(\u001b[38;5;124mf\u001b[39m\u001b[38;5;124m\"\u001b[39m\u001b[38;5;124mCannot locate relative element with: \u001b[39m\u001b[38;5;132;01m{\u001b[39;00mby\u001b[38;5;241m.\u001b[39mroot\u001b[38;5;132;01m}\u001b[39;00m\u001b[38;5;124m\"\u001b[39m)\n\u001b[0;32m    768\u001b[0m     \u001b[38;5;28;01mreturn\u001b[39;00m elements[\u001b[38;5;241m0\u001b[39m]\n\u001b[1;32m--> 770\u001b[0m \u001b[38;5;28;01mreturn\u001b[39;00m \u001b[38;5;28;43mself\u001b[39;49m\u001b[38;5;241;43m.\u001b[39;49m\u001b[43mexecute\u001b[49m\u001b[43m(\u001b[49m\u001b[43mCommand\u001b[49m\u001b[38;5;241;43m.\u001b[39;49m\u001b[43mFIND_ELEMENT\u001b[49m\u001b[43m,\u001b[49m\u001b[43m \u001b[49m\u001b[43m{\u001b[49m\u001b[38;5;124;43m\"\u001b[39;49m\u001b[38;5;124;43musing\u001b[39;49m\u001b[38;5;124;43m\"\u001b[39;49m\u001b[43m:\u001b[49m\u001b[43m \u001b[49m\u001b[43mby\u001b[49m\u001b[43m,\u001b[49m\u001b[43m \u001b[49m\u001b[38;5;124;43m\"\u001b[39;49m\u001b[38;5;124;43mvalue\u001b[39;49m\u001b[38;5;124;43m\"\u001b[39;49m\u001b[43m:\u001b[49m\u001b[43m \u001b[49m\u001b[43mvalue\u001b[49m\u001b[43m}\u001b[49m\u001b[43m)\u001b[49m[\u001b[38;5;124m\"\u001b[39m\u001b[38;5;124mvalue\u001b[39m\u001b[38;5;124m\"\u001b[39m]\n",
      "File \u001b[1;32mc:\\Users\\john.francis.roldan\\AppData\\Local\\Programs\\Python\\Python312\\Lib\\site-packages\\selenium\\webdriver\\remote\\webdriver.py:384\u001b[0m, in \u001b[0;36mWebDriver.execute\u001b[1;34m(self, driver_command, params)\u001b[0m\n\u001b[0;32m    382\u001b[0m response \u001b[38;5;241m=\u001b[39m \u001b[38;5;28mself\u001b[39m\u001b[38;5;241m.\u001b[39mcommand_executor\u001b[38;5;241m.\u001b[39mexecute(driver_command, params)\n\u001b[0;32m    383\u001b[0m \u001b[38;5;28;01mif\u001b[39;00m response:\n\u001b[1;32m--> 384\u001b[0m     \u001b[38;5;28;43mself\u001b[39;49m\u001b[38;5;241;43m.\u001b[39;49m\u001b[43merror_handler\u001b[49m\u001b[38;5;241;43m.\u001b[39;49m\u001b[43mcheck_response\u001b[49m\u001b[43m(\u001b[49m\u001b[43mresponse\u001b[49m\u001b[43m)\u001b[49m\n\u001b[0;32m    385\u001b[0m     response[\u001b[38;5;124m\"\u001b[39m\u001b[38;5;124mvalue\u001b[39m\u001b[38;5;124m\"\u001b[39m] \u001b[38;5;241m=\u001b[39m \u001b[38;5;28mself\u001b[39m\u001b[38;5;241m.\u001b[39m_unwrap_value(response\u001b[38;5;241m.\u001b[39mget(\u001b[38;5;124m\"\u001b[39m\u001b[38;5;124mvalue\u001b[39m\u001b[38;5;124m\"\u001b[39m, \u001b[38;5;28;01mNone\u001b[39;00m))\n\u001b[0;32m    386\u001b[0m     \u001b[38;5;28;01mreturn\u001b[39;00m response\n",
      "File \u001b[1;32mc:\\Users\\john.francis.roldan\\AppData\\Local\\Programs\\Python\\Python312\\Lib\\site-packages\\selenium\\webdriver\\remote\\errorhandler.py:232\u001b[0m, in \u001b[0;36mErrorHandler.check_response\u001b[1;34m(self, response)\u001b[0m\n\u001b[0;32m    230\u001b[0m         alert_text \u001b[38;5;241m=\u001b[39m value[\u001b[38;5;124m\"\u001b[39m\u001b[38;5;124malert\u001b[39m\u001b[38;5;124m\"\u001b[39m]\u001b[38;5;241m.\u001b[39mget(\u001b[38;5;124m\"\u001b[39m\u001b[38;5;124mtext\u001b[39m\u001b[38;5;124m\"\u001b[39m)\n\u001b[0;32m    231\u001b[0m     \u001b[38;5;28;01mraise\u001b[39;00m exception_class(message, screen, stacktrace, alert_text)  \u001b[38;5;66;03m# type: ignore[call-arg]  # mypy is not smart enough here\u001b[39;00m\n\u001b[1;32m--> 232\u001b[0m \u001b[38;5;28;01mraise\u001b[39;00m exception_class(message, screen, stacktrace)\n",
      "\u001b[1;31mNoSuchElementException\u001b[0m: Message: no such element: Unable to locate element: {\"method\":\"link text\",\"selector\":\"Tech With Tim\"}\n  (Session info: chrome=131.0.6778.205); For documentation on this error, please visit: https://www.selenium.dev/documentation/webdriver/troubleshooting/errors#no-such-element-exception\nStacktrace:\n\tGetHandleVerifier [0x00007FF6CEE16CB5+28821]\n\t(No symbol) [0x00007FF6CED83840]\n\t(No symbol) [0x00007FF6CEC2578A]\n\t(No symbol) [0x00007FF6CEC791BE]\n\t(No symbol) [0x00007FF6CEC794AC]\n\t(No symbol) [0x00007FF6CECC2647]\n\t(No symbol) [0x00007FF6CEC9F33F]\n\t(No symbol) [0x00007FF6CECBF412]\n\t(No symbol) [0x00007FF6CEC9F0A3]\n\t(No symbol) [0x00007FF6CEC6A778]\n\t(No symbol) [0x00007FF6CEC6B8E1]\n\tGetHandleVerifier [0x00007FF6CF14FCAD+3408013]\n\tGetHandleVerifier [0x00007FF6CF16741F+3504127]\n\tGetHandleVerifier [0x00007FF6CF15B5FD+3455453]\n\tGetHandleVerifier [0x00007FF6CEEDBDBB+835995]\n\t(No symbol) [0x00007FF6CED8EB5F]\n\t(No symbol) [0x00007FF6CED8A814]\n\t(No symbol) [0x00007FF6CED8A9AD]\n\t(No symbol) [0x00007FF6CED7A199]\n\tBaseThreadInitThunk [0x00007FFE52C5259D+29]\n\tRtlUserThreadStart [0x00007FFE547AAF38+40]\n"
     ]
    }
   ],
   "source": [
    "# Initialize Driver\n",
    "service = Service(executable_path=\"chromedriver.exe\")\n",
    "driver = webdriver.Chrome(service=service)\n",
    "\n",
    "\n",
    "# Access Website\n",
    "driver.get(\"https://google.com\")\n",
    "\n",
    "# If the after 5 sec and the element doesn't exist, end program\n",
    "WebDriverWait(driver, 5).until(\n",
    "    EC.presence_of_all_elements_located((By.CLASS_NAME, 'gLFyf'))\n",
    ")\n",
    "\n",
    "\n",
    "# Interact with google search bar using class attribute name\n",
    "input_element = driver.find_element(By.CLASS_NAME, \"gLFyf\")\n",
    "\n",
    "# Clear Textbox\n",
    "input_element.clear()\n",
    "\n",
    "# Type on the google search bar\n",
    "input_element.send_keys(\"Tech With Tim\" + Keys.ENTER)\n",
    "\n",
    "# Find 'Tech With Tim' exists inside of anchor/link tag it will access it\n",
    "link = driver.find_element(By.PARTIAL_LINK_TEXT, \"Tech With Tim\")\n",
    "link = driver.find_element(By.LINK_TEXT, \"Tech With Tim\")\n",
    "link.click()\n",
    "\n",
    "time.sleep(10)\n",
    "\n",
    "\n",
    "# Close the driver/website\n",
    "driver.quit()"
   ]
  },
  {
   "cell_type": "markdown",
   "metadata": {},
   "source": [
    "# References\n",
    "- [Python Selenium Tutorial - Automate Websites and Create Bots](https://www.youtube.com/watch?v=NB8OceGZGjA)\n",
    "- [How to scrape Linkedin with Selenium, Python and ChatGPT| Web Scraping with Python](https://www.youtube.com/watch?v=WyLa9afeEm8&t=278s)"
   ]
  }
 ],
 "metadata": {
  "kernelspec": {
   "display_name": "Python 3",
   "language": "python",
   "name": "python3"
  },
  "language_info": {
   "codemirror_mode": {
    "name": "ipython",
    "version": 3
   },
   "file_extension": ".py",
   "mimetype": "text/x-python",
   "name": "python",
   "nbconvert_exporter": "python",
   "pygments_lexer": "ipython3",
   "version": "3.12.1"
  }
 },
 "nbformat": 4,
 "nbformat_minor": 2
}
