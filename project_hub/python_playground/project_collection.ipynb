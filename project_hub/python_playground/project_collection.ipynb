{
 "cells": [
  {
   "cell_type": "markdown",
   "metadata": {},
   "source": [
    "# Manga Tracker"
   ]
  },
  {
   "cell_type": "markdown",
   "metadata": {},
   "source": []
  },
  {
   "cell_type": "code",
   "execution_count": null,
   "metadata": {},
   "outputs": [],
   "source": []
  },
  {
   "cell_type": "markdown",
   "metadata": {},
   "source": [
    "# Query column renaming"
   ]
  },
  {
   "cell_type": "code",
   "execution_count": 30,
   "metadata": {},
   "outputs": [],
   "source": [
    "changes = {\n",
    "    \"emp_id\": \"employee_id\",\n",
    "    \"unique_dept_emp_id\": \"\",\n",
    "    \"emp_id_fname\": \"first_name\",\n",
    "    \"years_of_service\": \"\",\n",
    "    \"emp_id_lname\": \"last_name\",\n",
    "    \"emp_full_name\": \"full_name\",\n",
    "    \"hire_month\": \"month_hired\"\n",
    "}"
   ]
  },
  {
   "cell_type": "code",
   "execution_count": 48,
   "metadata": {},
   "outputs": [],
   "source": [
    "query = \"\"\"\n",
    "SELECT \n",
    "    employee_id AS emp_id,\n",
    "    first_name AS emp_id_fname,\n",
    "    last_name AS emp_id_lname,\n",
    "    CONCAT(first_name, ' ', last_name) AS emp_full_name,\n",
    "    dob AS birth_date,\n",
    "    hire_date AS start_date,\n",
    "    salary AS base_salary,\n",
    "    department_id AS dept_id,\n",
    "    YEAR(CURRENT_DATE) - YEAR(dob) AS age,\n",
    "    YEAR(CURRENT_DATE) - YEAR(hire_date) AS years_of_service,\n",
    "    CASE \n",
    "        WHEN salary > 50000 THEN 'High'\n",
    "        ELSE 'Low'\n",
    "    END AS salary_level,\n",
    "    salary * 0.05 AS bonus,\n",
    "    salary * 0.1 AS tax_deduction,\n",
    "    salary - (salary * 0.1) AS salary_after_tax,\n",
    "    department_id || '-' || employee_id AS unique_dept_emp_id,\n",
    "    LENGTH(first_name) AS first_name_length,\n",
    "    LENGTH(last_name) AS last_name_length,\n",
    "    LEFT(first_name, 1) AS first_initial,\n",
    "    LEFT(last_name, 1) AS last_initial,\n",
    "    EXTRACT(MONTH FROM hire_date) AS hire_month\n",
    "FROM \n",
    "    employees;\n",
    "\"\"\""
   ]
  },
  {
   "cell_type": "code",
   "execution_count": 40,
   "metadata": {},
   "outputs": [
    {
     "ename": "TypeError",
     "evalue": "dict.keys() takes no arguments (1 given)",
     "output_type": "error",
     "traceback": [
      "\u001b[1;31m---------------------------------------------------------------------------\u001b[0m",
      "\u001b[1;31mTypeError\u001b[0m                                 Traceback (most recent call last)",
      "Cell \u001b[1;32mIn[40], line 2\u001b[0m\n\u001b[0;32m      1\u001b[0m func_exclude \u001b[38;5;241m=\u001b[39m [\u001b[38;5;124m'\u001b[39m\u001b[38;5;124mCASE\u001b[39m\u001b[38;5;124m'\u001b[39m, \u001b[38;5;124m'\u001b[39m\u001b[38;5;124mSELECT\u001b[39m\u001b[38;5;124m'\u001b[39m, \u001b[38;5;124m'\u001b[39m\u001b[38;5;124mFROM\u001b[39m\u001b[38;5;124m'\u001b[39m]\n\u001b[1;32m----> 2\u001b[0m \u001b[43mchanges\u001b[49m\u001b[38;5;241;43m.\u001b[39;49m\u001b[43mkeys\u001b[49m\u001b[43m(\u001b[49m\u001b[38;5;124;43m'\u001b[39;49m\u001b[38;5;124;43memp_id\u001b[39;49m\u001b[38;5;124;43m'\u001b[39;49m\u001b[43m)\u001b[49m\n",
      "\u001b[1;31mTypeError\u001b[0m: dict.keys() takes no arguments (1 given)"
     ]
    }
   ],
   "source": [
    "func_exclude = ['CASE', 'SELECT', 'FROM']\n",
    "changes.keys('emp_id')"
   ]
  },
  {
   "cell_type": "code",
   "execution_count": 51,
   "metadata": {},
   "outputs": [
    {
     "name": "stdout",
     "output_type": "stream",
     "text": [
      "SELECT\n",
      "employee_id\n",
      "employee_id AS employee_id,\n",
      "first_name\n",
      "first_name AS first_name,\n",
      "last_name\n",
      "last_name AS last_name,\n",
      "full_name\n",
      "CONCAT(first_name, ' ', last_name) AS full_name,\n",
      "dob AS birth_date,\n",
      "hire_date AS start_date,\n",
      "salary AS base_salary,\n",
      "department_id AS dept_id,\n",
      "YEAR(CURRENT_DATE) - YEAR(dob) AS age,\n",
      "\n",
      "YEAR(CURRENT_DATE) - YEAR(hire_date) AS ,\n",
      "CASE\n",
      "WHEN salary > 50000 THEN 'High'\n",
      "ELSE 'Low'\n",
      "END AS salary_level,\n",
      "salary * 0.05 AS bonus,\n",
      "salary * 0.1 AS tax_deduction,\n",
      "salary - (salary * 0.1) AS salary_after_tax,\n",
      "\n",
      "department_id || '-' || employee_id AS ,\n",
      "LENGTH(first_name) AS first_name_length,\n",
      "LENGTH(last_name) AS last_name_length,\n",
      "LEFT(first_name, 1) AS first_initial,\n",
      "LEFT(last_name, 1) AS last_initial,\n",
      "month_hired\n",
      "EXTRACT(MONTH FROM hire_date) AS month_hired,\n",
      "FROM\n",
      "employees;\n"
     ]
    }
   ],
   "source": [
    "\n",
    "num_changes = 0\n",
    "for q in query.strip().split(\"\\n\"):\n",
    "    break_query = q.split()\n",
    "    change_bq_case = [bq.upper() for bq in break_query]\n",
    "    if 'SELECT' in change_bq_case:\n",
    "        print(break_query[0])\n",
    "    elif 'CASE' in change_bq_case:\n",
    "        print(break_query[0])\n",
    "    else:\n",
    "        alias_q = break_query[-1]\n",
    "        find_index = break_query.index(alias_q)\n",
    "        current_col = alias_q.replace(\",\", \"\")\n",
    "        if current_col in changes:\n",
    "            break_query[find_index] = f\"{changes.get(current_col)},\"\n",
    "            num_changes\n",
    "        \n",
    "        print(\" \".join(break_query))\n"
   ]
  }
 ],
 "metadata": {
  "kernelspec": {
   "display_name": "Python 3",
   "language": "python",
   "name": "python3"
  },
  "language_info": {
   "codemirror_mode": {
    "name": "ipython",
    "version": 3
   },
   "file_extension": ".py",
   "mimetype": "text/x-python",
   "name": "python",
   "nbconvert_exporter": "python",
   "pygments_lexer": "ipython3",
   "version": "3.10.11"
  }
 },
 "nbformat": 4,
 "nbformat_minor": 2
}
